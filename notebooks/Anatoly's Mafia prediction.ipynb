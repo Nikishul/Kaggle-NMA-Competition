{
 "cells": [
  {
   "cell_type": "code",
   "execution_count": 1,
   "metadata": {},
   "outputs": [],
   "source": [
    "import pandas as pd\n",
    "import numpy as np\n",
    "from sklearn import preprocessing\n",
    "from sklearn.feature_extraction.text import CountVectorizer, TfidfVectorizer\n",
    "from sklearn.model_selection import train_test_split, KFold\n",
    "from nltk.corpus import stopwords\n",
    "from nltk.stem.snowball import SnowballStemmer\n",
    "from sklearn.svm import LinearSVC\n",
    "import matplotlib\n",
    "from sklearn.metrics import accuracy_score\n",
    "from matplotlib import pyplot as plt\n",
    "from sklearn.feature_extraction.text import CountVectorizer\n",
    "%matplotlib inline"
   ]
  },
  {
   "cell_type": "code",
   "execution_count": 12,
   "metadata": {},
   "outputs": [
    {
     "ename": "ModuleNotFoundError",
     "evalue": "No module named 'useful_scripts'",
     "output_type": "error",
     "traceback": [
      "\u001b[1;31m---------------------------------------------------------------------------\u001b[0m",
      "\u001b[1;31mModuleNotFoundError\u001b[0m                       Traceback (most recent call last)",
      "\u001b[1;32m<ipython-input-12-0f2547606ecd>\u001b[0m in \u001b[0;36m<module>\u001b[1;34m\u001b[0m\n\u001b[1;32m----> 1\u001b[1;33m \u001b[1;32mfrom\u001b[0m \u001b[0museful_scripts\u001b[0m \u001b[1;32mimport\u001b[0m \u001b[0mdata_prepare\u001b[0m\u001b[1;33m\u001b[0m\u001b[1;33m\u001b[0m\u001b[0m\n\u001b[0m\u001b[0;32m      2\u001b[0m \u001b[0mpost\u001b[0m\u001b[1;33m,\u001b[0m \u001b[0mtrain\u001b[0m\u001b[1;33m=\u001b[0m\u001b[0mscripts\u001b[0m\u001b[1;33m.\u001b[0m\u001b[0mdata_prepare\u001b[0m\u001b[1;33m.\u001b[0m\u001b[0mload_train_data\u001b[0m\u001b[1;33m(\u001b[0m\u001b[1;33m)\u001b[0m\u001b[1;33m\u001b[0m\u001b[1;33m\u001b[0m\u001b[0m\n\u001b[0;32m      3\u001b[0m \u001b[0minfo_types\u001b[0m\u001b[1;33m=\u001b[0m\u001b[0mscripts\u001b[0m\u001b[1;33m.\u001b[0m\u001b[0mdata_prepare\u001b[0m\u001b[1;33m.\u001b[0m\u001b[0mload_label_map\u001b[0m\u001b[1;33m(\u001b[0m\u001b[1;33m)\u001b[0m\u001b[1;33m\u001b[0m\u001b[1;33m\u001b[0m\u001b[0m\n",
      "\u001b[1;31mModuleNotFoundError\u001b[0m: No module named 'useful_scripts'"
     ]
    }
   ],
   "source": [
    "from useful_scripts import data_prepare\n",
    "post, train=scripts.data_prepare.load_train_data()\n",
    "info_types=scripts.data_prepare.load_label_map()"
   ]
  },
  {
   "cell_type": "code",
   "execution_count": 3,
   "metadata": {},
   "outputs": [
    {
     "data": {
      "text/html": [
       "<div>\n",
       "<style scoped>\n",
       "    .dataframe tbody tr th:only-of-type {\n",
       "        vertical-align: middle;\n",
       "    }\n",
       "\n",
       "    .dataframe tbody tr th {\n",
       "        vertical-align: top;\n",
       "    }\n",
       "\n",
       "    .dataframe thead th {\n",
       "        text-align: right;\n",
       "    }\n",
       "</style>\n",
       "<table border=\"1\" class=\"dataframe\">\n",
       "  <thead>\n",
       "    <tr style=\"text-align: right;\">\n",
       "      <th></th>\n",
       "      <th>type_id</th>\n",
       "      <th>description</th>\n",
       "    </tr>\n",
       "    <tr>\n",
       "      <th>type_name</th>\n",
       "      <th></th>\n",
       "      <th></th>\n",
       "    </tr>\n",
       "  </thead>\n",
       "  <tbody>\n",
       "    <tr>\n",
       "      <th>bastard</th>\n",
       "      <td>0</td>\n",
       "      <td>These are mafia games where the moderator is a...</td>\n",
       "    </tr>\n",
       "    <tr>\n",
       "      <th>beginners-mafia</th>\n",
       "      <td>1</td>\n",
       "      <td>Simple games with fixed rules, tailored toward...</td>\n",
       "    </tr>\n",
       "    <tr>\n",
       "      <th>byor</th>\n",
       "      <td>2</td>\n",
       "      <td>\"Bring Your Own Role\": custom games where the ...</td>\n",
       "    </tr>\n",
       "    <tr>\n",
       "      <th>classic</th>\n",
       "      <td>3</td>\n",
       "      <td>In \"classic\" games, all players know what role...</td>\n",
       "    </tr>\n",
       "    <tr>\n",
       "      <th>closed-setup</th>\n",
       "      <td>4</td>\n",
       "      <td>Closed setups mean that players do not know wh...</td>\n",
       "    </tr>\n",
       "    <tr>\n",
       "      <th>cybrid</th>\n",
       "      <td>5</td>\n",
       "      <td>A custom, titled mafia game with multiple \"evi...</td>\n",
       "    </tr>\n",
       "    <tr>\n",
       "      <th>kotm</th>\n",
       "      <td>6</td>\n",
       "      <td>\"King of the Mafia\": multiple mafia mini-games...</td>\n",
       "    </tr>\n",
       "    <tr>\n",
       "      <th>non-mafia-game</th>\n",
       "      <td>7</td>\n",
       "      <td>Games which are sufficiently different from Ma...</td>\n",
       "    </tr>\n",
       "    <tr>\n",
       "      <th>other</th>\n",
       "      <td>8</td>\n",
       "      <td>Non-game threads, such as discussion topics, s...</td>\n",
       "    </tr>\n",
       "    <tr>\n",
       "      <th>paranormal</th>\n",
       "      <td>9</td>\n",
       "      <td>A custom, titled mafia game with a fixed role ...</td>\n",
       "    </tr>\n",
       "    <tr>\n",
       "      <th>supernatural</th>\n",
       "      <td>10</td>\n",
       "      <td>A custom, titled mafia game with hidden (but c...</td>\n",
       "    </tr>\n",
       "    <tr>\n",
       "      <th>vanilla</th>\n",
       "      <td>11</td>\n",
       "      <td>Simple games with fixed rules, using only the ...</td>\n",
       "    </tr>\n",
       "    <tr>\n",
       "      <th>vengeful</th>\n",
       "      <td>12</td>\n",
       "      <td>Very small games; they have no nights or mafia...</td>\n",
       "    </tr>\n",
       "  </tbody>\n",
       "</table>\n",
       "</div>"
      ],
      "text/plain": [
       "                 type_id                                        description\n",
       "type_name                                                                  \n",
       "bastard                0  These are mafia games where the moderator is a...\n",
       "beginners-mafia        1  Simple games with fixed rules, tailored toward...\n",
       "byor                   2  \"Bring Your Own Role\": custom games where the ...\n",
       "classic                3  In \"classic\" games, all players know what role...\n",
       "closed-setup           4  Closed setups mean that players do not know wh...\n",
       "cybrid                 5  A custom, titled mafia game with multiple \"evi...\n",
       "kotm                   6  \"King of the Mafia\": multiple mafia mini-games...\n",
       "non-mafia-game         7  Games which are sufficiently different from Ma...\n",
       "other                  8  Non-game threads, such as discussion topics, s...\n",
       "paranormal             9  A custom, titled mafia game with a fixed role ...\n",
       "supernatural          10  A custom, titled mafia game with hidden (but c...\n",
       "vanilla               11  Simple games with fixed rules, using only the ...\n",
       "vengeful              12  Very small games; they have no nights or mafia..."
      ]
     },
     "execution_count": 3,
     "metadata": {},
     "output_type": "execute_result"
    }
   ],
   "source": [
    "info_types"
   ]
  },
  {
   "cell_type": "code",
   "execution_count": 4,
   "metadata": {},
   "outputs": [],
   "source": [
    "post=pd.read_csv(r\"E:\\Nikita\\Kaggle\\Mafia gametype\\train\\post.csv\")\n",
    "thread=pd.read_csv(r\"E:\\Nikita\\Kaggle\\Mafia gametype\\train\\thread.csv\")\n",
    "post_test=pd.read_csv(r\"E:\\Nikita\\Kaggle\\Mafia gametype\\test\\post.csv\")\n",
    "thread_test=pd.read_csv(r\"E:\\Nikita\\Kaggle\\Mafia gametype\\test\\thread.csv\")"
   ]
  },
  {
   "cell_type": "code",
   "execution_count": 5,
   "metadata": {},
   "outputs": [
    {
     "data": {
      "text/html": [
       "<div>\n",
       "<style scoped>\n",
       "    .dataframe tbody tr th:only-of-type {\n",
       "        vertical-align: middle;\n",
       "    }\n",
       "\n",
       "    .dataframe tbody tr th {\n",
       "        vertical-align: top;\n",
       "    }\n",
       "\n",
       "    .dataframe thead th {\n",
       "        text-align: right;\n",
       "    }\n",
       "</style>\n",
       "<table border=\"1\" class=\"dataframe\">\n",
       "  <thead>\n",
       "    <tr style=\"text-align: right;\">\n",
       "      <th></th>\n",
       "      <th>thread_num</th>\n",
       "      <th>user</th>\n",
       "      <th>text</th>\n",
       "      <th>quotes</th>\n",
       "    </tr>\n",
       "  </thead>\n",
       "  <tbody>\n",
       "    <tr>\n",
       "      <th>0</th>\n",
       "      <td>45016</td>\n",
       "      <td>Mephansteras</td>\n",
       "      <td>Basically, this is where we talk about what ga...</td>\n",
       "      <td>[]</td>\n",
       "    </tr>\n",
       "    <tr>\n",
       "      <th>1</th>\n",
       "      <td>45016</td>\n",
       "      <td>dakarian</td>\n",
       "      <td>The currently running or about to run games (i...</td>\n",
       "      <td>[]</td>\n",
       "    </tr>\n",
       "    <tr>\n",
       "      <th>2</th>\n",
       "      <td>45016</td>\n",
       "      <td>webadict</td>\n",
       "      <td>And mine's started.\\r\\r\\r\\n\\r\\r\\r\\nI'll try to...</td>\n",
       "      <td>[]</td>\n",
       "    </tr>\n",
       "  </tbody>\n",
       "</table>\n",
       "</div>"
      ],
      "text/plain": [
       "   thread_num          user  \\\n",
       "0       45016  Mephansteras   \n",
       "1       45016      dakarian   \n",
       "2       45016      webadict   \n",
       "\n",
       "                                                text quotes  \n",
       "0  Basically, this is where we talk about what ga...     []  \n",
       "1  The currently running or about to run games (i...     []  \n",
       "2  And mine's started.\\r\\r\\r\\n\\r\\r\\r\\nI'll try to...     []  "
      ]
     },
     "execution_count": 5,
     "metadata": {},
     "output_type": "execute_result"
    }
   ],
   "source": [
    "post.head(3)"
   ]
  },
  {
   "cell_type": "code",
   "execution_count": 6,
   "metadata": {},
   "outputs": [
    {
     "data": {
      "text/html": [
       "<div>\n",
       "<style scoped>\n",
       "    .dataframe tbody tr th:only-of-type {\n",
       "        vertical-align: middle;\n",
       "    }\n",
       "\n",
       "    .dataframe tbody tr th {\n",
       "        vertical-align: top;\n",
       "    }\n",
       "\n",
       "    .dataframe thead th {\n",
       "        text-align: right;\n",
       "    }\n",
       "</style>\n",
       "<table border=\"1\" class=\"dataframe\">\n",
       "  <thead>\n",
       "    <tr style=\"text-align: right;\">\n",
       "      <th></th>\n",
       "      <th>thread_num</th>\n",
       "      <th>thread_name</th>\n",
       "      <th>thread_label</th>\n",
       "      <th>thread_replies</th>\n",
       "      <th>thread_label_id</th>\n",
       "    </tr>\n",
       "  </thead>\n",
       "  <tbody>\n",
       "    <tr>\n",
       "      <th>0</th>\n",
       "      <td>45016</td>\n",
       "      <td>Games Threshold Discussion and List [Vote for ...</td>\n",
       "      <td>other</td>\n",
       "      <td>5703</td>\n",
       "      <td>8</td>\n",
       "    </tr>\n",
       "    <tr>\n",
       "      <th>1</th>\n",
       "      <td>88720</td>\n",
       "      <td>New Player's Guide to the Subforum - New to Ma...</td>\n",
       "      <td>other</td>\n",
       "      <td>961</td>\n",
       "      <td>8</td>\n",
       "    </tr>\n",
       "    <tr>\n",
       "      <th>2</th>\n",
       "      <td>39338</td>\n",
       "      <td>Mafia: A Basic Tutorial</td>\n",
       "      <td>other</td>\n",
       "      <td>79</td>\n",
       "      <td>8</td>\n",
       "    </tr>\n",
       "  </tbody>\n",
       "</table>\n",
       "</div>"
      ],
      "text/plain": [
       "   thread_num                                        thread_name thread_label  \\\n",
       "0       45016  Games Threshold Discussion and List [Vote for ...        other   \n",
       "1       88720  New Player's Guide to the Subforum - New to Ma...        other   \n",
       "2       39338                            Mafia: A Basic Tutorial        other   \n",
       "\n",
       "   thread_replies  thread_label_id  \n",
       "0            5703                8  \n",
       "1             961                8  \n",
       "2              79                8  "
      ]
     },
     "execution_count": 6,
     "metadata": {},
     "output_type": "execute_result"
    }
   ],
   "source": [
    "thread.head(3)"
   ]
  },
  {
   "cell_type": "code",
   "execution_count": 7,
   "metadata": {},
   "outputs": [],
   "source": [
    "import re\n",
    "def clean(raw_data):\n",
    "    review_text = BeautifulSoup(raw_data).get_text() \n",
    "    letters_only = re.sub(\"[^a-zA-Z]\", \" \", review_text) \n",
    "    words = letters_only.lower().split()                             \n",
    "    stops = set(stopwords.words(\"english\"))  \n",
    "    meaningful_words = [w for w in words if not w in stops]   \n",
    "    return( \" \".join( meaningful_words ))  "
   ]
  },
  {
   "cell_type": "code",
   "execution_count": 8,
   "metadata": {},
   "outputs": [],
   "source": [
    "num=len(thread)\n",
    "data_to_clean=[]\n",
    "clean_test_data=[]\n",
    "test_data_to_clean=[]"
   ]
  },
  {
   "cell_type": "code",
   "execution_count": 9,
   "metadata": {},
   "outputs": [],
   "source": [
    "for item in thread.itertuples():\n",
    "    buf=post[post[\"thread_num\"]==item.thread_num]\n",
    "    line=str()\n",
    "    line=line+item.thread_name\n",
    "    for row in buf.itertuples():\n",
    "        line=line+str(row.text)\n",
    "    data_to_clean.append(line)\n",
    "    \n",
    "    \n",
    "    \n",
    "    \n",
    "for item in thread_test.itertuples():\n",
    "    buf=post_test[post_test[\"thread_num\"]==item.thread_num]\n",
    "    line=str()\n",
    "    line=line+item.thread_name\n",
    "    for row in buf.itertuples():\n",
    "        line=line+str(row.text)\n",
    "    test_data_to_clean.append(line)"
   ]
  },
  {
   "cell_type": "code",
   "execution_count": 26,
   "metadata": {},
   "outputs": [
    {
     "data": {
      "text/plain": [
       "358"
      ]
     },
     "execution_count": 26,
     "metadata": {},
     "output_type": "execute_result"
    }
   ],
   "source": []
  },
  {
   "cell_type": "code",
   "execution_count": 27,
   "metadata": {},
   "outputs": [
    {
     "data": {
      "text/plain": [
       "97539"
      ]
     },
     "execution_count": 27,
     "metadata": {},
     "output_type": "execute_result"
    }
   ],
   "source": []
  },
  {
   "cell_type": "code",
   "execution_count": 10,
   "metadata": {},
   "outputs": [],
   "source": [
    "from bs4 import BeautifulSoup"
   ]
  },
  {
   "cell_type": "code",
   "execution_count": 11,
   "metadata": {},
   "outputs": [
    {
     "name": "stdout",
     "output_type": "stream",
     "text": [
      "Cleaning and parsing the training set movie reviews...\n",
      "\n",
      "Cleaning and parsing the training set movie reviews...\n",
      "\n"
     ]
    }
   ],
   "source": [
    "clean_data = []\n",
    "for item in data_to_clean:\n",
    "    clean_data.append(clean(item))\n",
    "    \n",
    "    \n",
    "for item in test_data_to_clean:\n",
    "    clean_test_data.append(clean(item))"
   ]
  },
  {
   "cell_type": "code",
   "execution_count": null,
   "metadata": {},
   "outputs": [],
   "source": []
  },
  {
   "cell_type": "code",
   "execution_count": 12,
   "metadata": {},
   "outputs": [],
   "source": [
    "X_train=clean_data\n",
    "y_train=thread[\"thread_label_id\"]\n",
    "#X_train, X_val, y_train, y_val = train_test_split(clean_data, thread[\"thread_label_id\"], test_size=0.2, random_state=35)"
   ]
  },
  {
   "cell_type": "code",
   "execution_count": 13,
   "metadata": {},
   "outputs": [],
   "source": [
    "vectorizer = CountVectorizer(analyzer = \"word\",\n",
    "                             tokenizer = None,  preprocessor = None,\n",
    "                             stop_words = None, max_features = 1500) \n",
    "\n",
    "train_data_features = vectorizer.fit_transform(X_train)\n",
    "\n",
    "train_data_features = train_data_features.toarray()\n",
    "\n",
    "\n",
    "\n",
    "test_data_features = vectorizer.transform(clean_test_data)\n",
    "\n",
    "test_data_features = test_data_features.toarray()\n",
    "\n",
    "\n",
    "\n",
    "#val_data_features = vectorizer.fit_transform(X_val)\n",
    "#word_df = pd.DataFrame(train_data_features, columns=vectorizer.get_feature_names(), index=thread.index)\n",
    "\n",
    "#val_data_features = val_data_features.toarray()\n",
    "\n",
    "#train_data_features = pd.concat([(thread['thread_replies'] + 1).rename('posts'), word_df,], axis='columns')\n",
    "#train_data_features.head()"
   ]
  },
  {
   "cell_type": "code",
   "execution_count": null,
   "metadata": {},
   "outputs": [],
   "source": [
    "from sklearn.ensemble import RandomForestClassifier\n",
    "\n",
    "forest = RandomForestClassifier(n_estimators = 100) \n",
    "\n",
    "\n",
    "\n",
    "forest = forest.fit( train_data_features, y_train)\n",
    "\n",
    "val_data = forest.predict(val_data_features)\n",
    "\n",
    "from sklearn.metrics import accuracy_score\n",
    "\n",
    "acc = accuracy_score(y_val, val_data)\n",
    "\n",
    "print(\"Accuracy on the IMDB dataset: {:.2f}\".format(acc*100))"
   ]
  },
  {
   "cell_type": "code",
   "execution_count": 184,
   "metadata": {},
   "outputs": [
    {
     "name": "stderr",
     "output_type": "stream",
     "text": [
      "C:\\ProgramData\\Anaconda3\\lib\\site-packages\\ipykernel_launcher.py:6: FutureWarning: Method .as_matrix will be removed in a future version. Use .values instead.\n",
      "  \n",
      "C:\\ProgramData\\Anaconda3\\lib\\site-packages\\sklearn\\linear_model\\logistic.py:433: FutureWarning: Default solver will be changed to 'lbfgs' in 0.22. Specify a solver to silence this warning.\n",
      "  FutureWarning)\n",
      "C:\\ProgramData\\Anaconda3\\lib\\site-packages\\sklearn\\linear_model\\logistic.py:460: FutureWarning: Default multi_class will be changed to 'auto' in 0.22. Specify the multi_class option to silence this warning.\n",
      "  \"this warning.\", FutureWarning)\n"
     ]
    },
    {
     "name": "stdout",
     "output_type": "stream",
     "text": [
      "Accuracy =  0.5694444444444444\n",
      "\n",
      "\n"
     ]
    }
   ],
   "source": [
    "from skmultilearn.problem_transform import ClassifierChain\n",
    "from sklearn.linear_model import LogisticRegression\n",
    "\n",
    "classifier = ClassifierChain(LogisticRegression())\n",
    "\n",
    "classifier.fit(train_data_features, y_train.as_matrix())\n",
    "\n",
    "predictions = classifier.predict(val_data_features)\n",
    "# accuracy\n",
    "print(\"Accuracy = \",accuracy_score(y_val,predictions.A))\n",
    "print(\"\\n\")"
   ]
  },
  {
   "cell_type": "code",
   "execution_count": null,
   "metadata": {},
   "outputs": [],
   "source": []
  },
  {
   "cell_type": "code",
   "execution_count": 17,
   "metadata": {},
   "outputs": [
    {
     "name": "stderr",
     "output_type": "stream",
     "text": [
      "C:\\ProgramData\\Anaconda3\\lib\\site-packages\\ipykernel_launcher.py:6: FutureWarning: Method .as_matrix will be removed in a future version. Use .values instead.\n",
      "  \n"
     ]
    },
    {
     "data": {
      "text/plain": [
       "BinaryRelevance(classifier=GaussianNB(priors=None, var_smoothing=1e-09),\n",
       "        require_dense=[True, True])"
      ]
     },
     "execution_count": 17,
     "metadata": {},
     "output_type": "execute_result"
    }
   ],
   "source": [
    "from skmultilearn.problem_transform import BinaryRelevance\n",
    "from sklearn.naive_bayes import GaussianNB\n",
    "\n",
    "classifier = BinaryRelevance(GaussianNB())\n",
    "\n",
    "classifier.fit(train_data_features, y_train.as_matrix())\n",
    "\n",
    "predictions = classifier.predict(val_data_features)\n",
    "\n",
    "print(\"Accuracy = \",accuracy_score(y_val,predictions.A))"
   ]
  },
  {
   "cell_type": "code",
   "execution_count": 187,
   "metadata": {},
   "outputs": [
    {
     "name": "stdout",
     "output_type": "stream",
     "text": [
      "0.5972222222222222\n"
     ]
    }
   ],
   "source": [
    "model = LinearSVC()\n",
    "model.fit(train_data_features, y_train)\n",
    "y_pred = model.predict(val_data_features)\n",
    "\n",
    "# Evaluation\n",
    "print(accuracy_score(y_pred, y_val))"
   ]
  },
  {
   "cell_type": "code",
   "execution_count": null,
   "metadata": {},
   "outputs": [],
   "source": []
  },
  {
   "cell_type": "code",
   "execution_count": 16,
   "metadata": {},
   "outputs": [],
   "source": []
  },
  {
   "cell_type": "code",
   "execution_count": 17,
   "metadata": {},
   "outputs": [],
   "source": []
  },
  {
   "cell_type": "code",
   "execution_count": 18,
   "metadata": {},
   "outputs": [],
   "source": []
  },
  {
   "cell_type": "code",
   "execution_count": 19,
   "metadata": {},
   "outputs": [
    {
     "name": "stdout",
     "output_type": "stream",
     "text": [
      "Cleaning and parsing the training set movie reviews...\n",
      "\n"
     ]
    }
   ],
   "source": []
  },
  {
   "cell_type": "code",
   "execution_count": 20,
   "metadata": {},
   "outputs": [],
   "source": [
    "#test_data_features = vectorizer.transform(clean_test_data)\n",
    "\n",
    "#test_data_features = test_data_features.toarray()\n",
    "\n",
    "#test_df = pd.DataFrame(train_data_features, columns=vectorizer.get_feature_names(), index=thread.index)\n",
    "\n",
    "#test_data_features = pd.concat([(thread['thread_replies'] + 1).rename('posts'), test_df,], axis='columns')"
   ]
  },
  {
   "cell_type": "code",
   "execution_count": 39,
   "metadata": {},
   "outputs": [
    {
     "ename": "NameError",
     "evalue": "name 'forest' is not defined",
     "output_type": "error",
     "traceback": [
      "\u001b[1;31m---------------------------------------------------------------------------\u001b[0m",
      "\u001b[1;31mNameError\u001b[0m                                 Traceback (most recent call last)",
      "\u001b[1;32m<ipython-input-39-a644389f60fd>\u001b[0m in \u001b[0;36m<module>\u001b[1;34m\u001b[0m\n\u001b[1;32m----> 1\u001b[1;33m \u001b[0mres\u001b[0m \u001b[1;33m=\u001b[0m \u001b[0mforest\u001b[0m\u001b[1;33m.\u001b[0m\u001b[0mpredict\u001b[0m\u001b[1;33m(\u001b[0m\u001b[0mtest_data_features\u001b[0m\u001b[1;33m)\u001b[0m\u001b[1;33m\u001b[0m\u001b[1;33m\u001b[0m\u001b[0m\n\u001b[0m",
      "\u001b[1;31mNameError\u001b[0m: name 'forest' is not defined"
     ]
    }
   ],
   "source": []
  },
  {
   "cell_type": "code",
   "execution_count": null,
   "metadata": {},
   "outputs": [],
   "source": []
  },
  {
   "cell_type": "code",
   "execution_count": null,
   "metadata": {},
   "outputs": [],
   "source": []
  },
  {
   "cell_type": "code",
   "execution_count": null,
   "metadata": {},
   "outputs": [],
   "source": []
  },
  {
   "cell_type": "code",
   "execution_count": 21,
   "metadata": {},
   "outputs": [
    {
     "data": {
      "text/html": [
       "<div>\n",
       "<style scoped>\n",
       "    .dataframe tbody tr th:only-of-type {\n",
       "        vertical-align: middle;\n",
       "    }\n",
       "\n",
       "    .dataframe tbody tr th {\n",
       "        vertical-align: top;\n",
       "    }\n",
       "\n",
       "    .dataframe thead th {\n",
       "        text-align: right;\n",
       "    }\n",
       "</style>\n",
       "<table border=\"1\" class=\"dataframe\">\n",
       "  <thead>\n",
       "    <tr style=\"text-align: right;\">\n",
       "      <th></th>\n",
       "      <th>posts</th>\n",
       "      <th>absence</th>\n",
       "      <th>accepting</th>\n",
       "      <th>active</th>\n",
       "      <th>activity</th>\n",
       "      <th>actually</th>\n",
       "      <th>age</th>\n",
       "      <th>agent</th>\n",
       "      <th>aka</th>\n",
       "      <th>alien</th>\n",
       "      <th>...</th>\n",
       "      <th>xxiii</th>\n",
       "      <th>xxiv</th>\n",
       "      <th>xxv</th>\n",
       "      <th>ya</th>\n",
       "      <th>yes</th>\n",
       "      <th>yet</th>\n",
       "      <th>yo</th>\n",
       "      <th>zathras</th>\n",
       "      <th>zerzooton</th>\n",
       "      <th>zombie</th>\n",
       "    </tr>\n",
       "  </thead>\n",
       "  <tbody>\n",
       "    <tr>\n",
       "      <th>0</th>\n",
       "      <td>5704</td>\n",
       "      <td>0</td>\n",
       "      <td>0</td>\n",
       "      <td>0</td>\n",
       "      <td>0</td>\n",
       "      <td>0</td>\n",
       "      <td>0</td>\n",
       "      <td>0</td>\n",
       "      <td>0</td>\n",
       "      <td>0</td>\n",
       "      <td>...</td>\n",
       "      <td>0</td>\n",
       "      <td>0</td>\n",
       "      <td>0</td>\n",
       "      <td>0</td>\n",
       "      <td>0</td>\n",
       "      <td>0</td>\n",
       "      <td>0</td>\n",
       "      <td>0</td>\n",
       "      <td>0</td>\n",
       "      <td>0</td>\n",
       "    </tr>\n",
       "    <tr>\n",
       "      <th>1</th>\n",
       "      <td>962</td>\n",
       "      <td>0</td>\n",
       "      <td>0</td>\n",
       "      <td>0</td>\n",
       "      <td>0</td>\n",
       "      <td>0</td>\n",
       "      <td>0</td>\n",
       "      <td>0</td>\n",
       "      <td>0</td>\n",
       "      <td>0</td>\n",
       "      <td>...</td>\n",
       "      <td>0</td>\n",
       "      <td>0</td>\n",
       "      <td>0</td>\n",
       "      <td>0</td>\n",
       "      <td>0</td>\n",
       "      <td>0</td>\n",
       "      <td>0</td>\n",
       "      <td>0</td>\n",
       "      <td>0</td>\n",
       "      <td>0</td>\n",
       "    </tr>\n",
       "    <tr>\n",
       "      <th>2</th>\n",
       "      <td>80</td>\n",
       "      <td>0</td>\n",
       "      <td>0</td>\n",
       "      <td>0</td>\n",
       "      <td>0</td>\n",
       "      <td>0</td>\n",
       "      <td>0</td>\n",
       "      <td>0</td>\n",
       "      <td>0</td>\n",
       "      <td>0</td>\n",
       "      <td>...</td>\n",
       "      <td>0</td>\n",
       "      <td>0</td>\n",
       "      <td>0</td>\n",
       "      <td>0</td>\n",
       "      <td>0</td>\n",
       "      <td>0</td>\n",
       "      <td>0</td>\n",
       "      <td>0</td>\n",
       "      <td>0</td>\n",
       "      <td>0</td>\n",
       "    </tr>\n",
       "    <tr>\n",
       "      <th>3</th>\n",
       "      <td>1720</td>\n",
       "      <td>0</td>\n",
       "      <td>0</td>\n",
       "      <td>0</td>\n",
       "      <td>0</td>\n",
       "      <td>0</td>\n",
       "      <td>0</td>\n",
       "      <td>0</td>\n",
       "      <td>0</td>\n",
       "      <td>0</td>\n",
       "      <td>...</td>\n",
       "      <td>0</td>\n",
       "      <td>0</td>\n",
       "      <td>0</td>\n",
       "      <td>0</td>\n",
       "      <td>0</td>\n",
       "      <td>0</td>\n",
       "      <td>0</td>\n",
       "      <td>0</td>\n",
       "      <td>0</td>\n",
       "      <td>0</td>\n",
       "    </tr>\n",
       "    <tr>\n",
       "      <th>4</th>\n",
       "      <td>308</td>\n",
       "      <td>0</td>\n",
       "      <td>0</td>\n",
       "      <td>0</td>\n",
       "      <td>0</td>\n",
       "      <td>0</td>\n",
       "      <td>0</td>\n",
       "      <td>0</td>\n",
       "      <td>0</td>\n",
       "      <td>0</td>\n",
       "      <td>...</td>\n",
       "      <td>0</td>\n",
       "      <td>0</td>\n",
       "      <td>0</td>\n",
       "      <td>0</td>\n",
       "      <td>0</td>\n",
       "      <td>0</td>\n",
       "      <td>0</td>\n",
       "      <td>0</td>\n",
       "      <td>0</td>\n",
       "      <td>0</td>\n",
       "    </tr>\n",
       "  </tbody>\n",
       "</table>\n",
       "<p>5 rows × 656 columns</p>\n",
       "</div>"
      ],
      "text/plain": [
       "   posts  absence  accepting  active  activity  actually  age  agent  aka  \\\n",
       "0   5704        0          0       0         0         0    0      0    0   \n",
       "1    962        0          0       0         0         0    0      0    0   \n",
       "2     80        0          0       0         0         0    0      0    0   \n",
       "3   1720        0          0       0         0         0    0      0    0   \n",
       "4    308        0          0       0         0         0    0      0    0   \n",
       "\n",
       "   alien   ...    xxiii  xxiv  xxv  ya  yes  yet  yo  zathras  zerzooton  \\\n",
       "0      0   ...        0     0    0   0    0    0   0        0          0   \n",
       "1      0   ...        0     0    0   0    0    0   0        0          0   \n",
       "2      0   ...        0     0    0   0    0    0   0        0          0   \n",
       "3      0   ...        0     0    0   0    0    0   0        0          0   \n",
       "4      0   ...        0     0    0   0    0    0   0        0          0   \n",
       "\n",
       "   zombie  \n",
       "0       0  \n",
       "1       0  \n",
       "2       0  \n",
       "3       0  \n",
       "4       0  \n",
       "\n",
       "[5 rows x 656 columns]"
      ]
     },
     "execution_count": 21,
     "metadata": {},
     "output_type": "execute_result"
    }
   ],
   "source": [
    "test_data_features.head()"
   ]
  },
  {
   "cell_type": "code",
   "execution_count": 14,
   "metadata": {},
   "outputs": [],
   "source": [
    "from sklearn.tree import DecisionTreeClassifier\n",
    "\n",
    "# Just using default parameters... what can do wrong?\n",
    "cls = DecisionTreeClassifier(random_state=1000)\n",
    "cls.fit(train_data_features, y_train)\n",
    "third = cls.predict(test_data_features)"
   ]
  },
  {
   "cell_type": "code",
   "execution_count": 15,
   "metadata": {},
   "outputs": [],
   "source": [
    "from sklearn.ensemble import RandomForestClassifier\n",
    "\n",
    "forest = RandomForestClassifier(n_estimators = 100) \n",
    "\n",
    "\n",
    "forest = forest.fit( train_data_features, y_train)\n",
    "\n",
    "first = forest.predict(test_data_features)\n",
    "\n"
   ]
  },
  {
   "cell_type": "code",
   "execution_count": 18,
   "metadata": {},
   "outputs": [
    {
     "data": {
      "text/html": [
       "<div>\n",
       "<style scoped>\n",
       "    .dataframe tbody tr th:only-of-type {\n",
       "        vertical-align: middle;\n",
       "    }\n",
       "\n",
       "    .dataframe tbody tr th {\n",
       "        vertical-align: top;\n",
       "    }\n",
       "\n",
       "    .dataframe thead th {\n",
       "        text-align: right;\n",
       "    }\n",
       "</style>\n",
       "<table border=\"1\" class=\"dataframe\">\n",
       "  <thead>\n",
       "    <tr style=\"text-align: right;\">\n",
       "      <th></th>\n",
       "      <th>thread_label_id</th>\n",
       "    </tr>\n",
       "    <tr>\n",
       "      <th>thread_num</th>\n",
       "      <th></th>\n",
       "    </tr>\n",
       "  </thead>\n",
       "  <tbody>\n",
       "    <tr>\n",
       "      <th>126856</th>\n",
       "      <td>8</td>\n",
       "    </tr>\n",
       "    <tr>\n",
       "      <th>132415</th>\n",
       "      <td>1</td>\n",
       "    </tr>\n",
       "    <tr>\n",
       "      <th>134482</th>\n",
       "      <td>8</td>\n",
       "    </tr>\n",
       "    <tr>\n",
       "      <th>133728</th>\n",
       "      <td>1</td>\n",
       "    </tr>\n",
       "    <tr>\n",
       "      <th>134270</th>\n",
       "      <td>8</td>\n",
       "    </tr>\n",
       "  </tbody>\n",
       "</table>\n",
       "</div>"
      ],
      "text/plain": [
       "            thread_label_id\n",
       "thread_num                 \n",
       "126856                    8\n",
       "132415                    1\n",
       "134482                    8\n",
       "133728                    1\n",
       "134270                    8"
      ]
     },
     "execution_count": 18,
     "metadata": {},
     "output_type": "execute_result"
    }
   ],
   "source": [
    "lab=pd.Series(first)\n",
    "ans = pd.concat([thread_test[\"thread_num\"],lab], axis=1, keys=['thread_num', 'thread_label_id'])\n",
    "ans=ans.set_index(\"thread_num\")\n",
    "ans.head()"
   ]
  },
  {
   "cell_type": "code",
   "execution_count": 16,
   "metadata": {},
   "outputs": [
    {
     "name": "stderr",
     "output_type": "stream",
     "text": [
      "C:\\ProgramData\\Anaconda3\\lib\\site-packages\\ipykernel_launcher.py:6: FutureWarning: Method .as_matrix will be removed in a future version. Use .values instead.\n",
      "  \n"
     ]
    }
   ],
   "source": [
    "from skmultilearn.problem_transform import BinaryRelevance\n",
    "from sklearn.naive_bayes import GaussianNB\n",
    "\n",
    "classifier = BinaryRelevance(GaussianNB())\n",
    "\n",
    "classifier.fit(train_data_features, y_train.as_matrix())\n",
    "second = classifier.predict(test_data_features)"
   ]
  },
  {
   "cell_type": "code",
   "execution_count": null,
   "metadata": {},
   "outputs": [],
   "source": [
    "print(second)"
   ]
  },
  {
   "cell_type": "code",
   "execution_count": null,
   "metadata": {},
   "outputs": [],
   "source": [
    "second=second.data\n",
    "second"
   ]
  },
  {
   "cell_type": "code",
   "execution_count": 28,
   "metadata": {},
   "outputs": [
    {
     "data": {
      "text/html": [
       "<div>\n",
       "<style scoped>\n",
       "    .dataframe tbody tr th:only-of-type {\n",
       "        vertical-align: middle;\n",
       "    }\n",
       "\n",
       "    .dataframe tbody tr th {\n",
       "        vertical-align: top;\n",
       "    }\n",
       "\n",
       "    .dataframe thead th {\n",
       "        text-align: right;\n",
       "    }\n",
       "</style>\n",
       "<table border=\"1\" class=\"dataframe\">\n",
       "  <thead>\n",
       "    <tr style=\"text-align: right;\">\n",
       "      <th></th>\n",
       "      <th>thread_label_id</th>\n",
       "    </tr>\n",
       "    <tr>\n",
       "      <th>thread_num</th>\n",
       "      <th></th>\n",
       "    </tr>\n",
       "  </thead>\n",
       "  <tbody>\n",
       "    <tr>\n",
       "      <th>126856</th>\n",
       "      <td>3.0</td>\n",
       "    </tr>\n",
       "    <tr>\n",
       "      <th>132415</th>\n",
       "      <td>8.0</td>\n",
       "    </tr>\n",
       "    <tr>\n",
       "      <th>134482</th>\n",
       "      <td>8.0</td>\n",
       "    </tr>\n",
       "    <tr>\n",
       "      <th>133728</th>\n",
       "      <td>1.0</td>\n",
       "    </tr>\n",
       "    <tr>\n",
       "      <th>134270</th>\n",
       "      <td>3.0</td>\n",
       "    </tr>\n",
       "  </tbody>\n",
       "</table>\n",
       "</div>"
      ],
      "text/plain": [
       "            thread_label_id\n",
       "thread_num                 \n",
       "126856                  3.0\n",
       "132415                  8.0\n",
       "134482                  8.0\n",
       "133728                  1.0\n",
       "134270                  3.0"
      ]
     },
     "execution_count": 28,
     "metadata": {},
     "output_type": "execute_result"
    }
   ],
   "source": [
    "label=pd.Series(second,dtype=np.int32)\n",
    "ans = pd.concat([thread_test[\"thread_num\"],label], axis=1, keys=['thread_num', 'thread_label_id'])\n",
    "ans=ans.set_index(\"thread_num\")\n",
    "ans.head()"
   ]
  },
  {
   "cell_type": "code",
   "execution_count": 39,
   "metadata": {},
   "outputs": [],
   "source": [
    "ans.to_csv(r\"E:\\Nikita\\Kaggle\\Mafia gametype\\subm\\sol6.csv\")"
   ]
  },
  {
   "cell_type": "code",
   "execution_count": 27,
   "metadata": {},
   "outputs": [
    {
     "ename": "NameError",
     "evalue": "name 'third' is not defined",
     "output_type": "error",
     "traceback": [
      "\u001b[1;31m---------------------------------------------------------------------------\u001b[0m",
      "\u001b[1;31mNameError\u001b[0m                                 Traceback (most recent call last)",
      "\u001b[1;32m<ipython-input-27-07856ae1622c>\u001b[0m in \u001b[0;36m<module>\u001b[1;34m\u001b[0m\n\u001b[1;32m----> 1\u001b[1;33m \u001b[0mprint\u001b[0m\u001b[1;33m(\u001b[0m\u001b[0mthird\u001b[0m\u001b[1;33m)\u001b[0m\u001b[1;33m\u001b[0m\u001b[1;33m\u001b[0m\u001b[0m\n\u001b[0m",
      "\u001b[1;31mNameError\u001b[0m: name 'third' is not defined"
     ]
    }
   ],
   "source": [
    "print(third)"
   ]
  },
  {
   "cell_type": "code",
   "execution_count": 46,
   "metadata": {},
   "outputs": [
    {
     "data": {
      "text/html": [
       "<div>\n",
       "<style scoped>\n",
       "    .dataframe tbody tr th:only-of-type {\n",
       "        vertical-align: middle;\n",
       "    }\n",
       "\n",
       "    .dataframe tbody tr th {\n",
       "        vertical-align: top;\n",
       "    }\n",
       "\n",
       "    .dataframe thead th {\n",
       "        text-align: right;\n",
       "    }\n",
       "</style>\n",
       "<table border=\"1\" class=\"dataframe\">\n",
       "  <thead>\n",
       "    <tr style=\"text-align: right;\">\n",
       "      <th></th>\n",
       "      <th>thread_label_id</th>\n",
       "    </tr>\n",
       "    <tr>\n",
       "      <th>thread_num</th>\n",
       "      <th></th>\n",
       "    </tr>\n",
       "  </thead>\n",
       "  <tbody>\n",
       "    <tr>\n",
       "      <th>126856</th>\n",
       "      <td>12</td>\n",
       "    </tr>\n",
       "    <tr>\n",
       "      <th>132415</th>\n",
       "      <td>12</td>\n",
       "    </tr>\n",
       "    <tr>\n",
       "      <th>134482</th>\n",
       "      <td>12</td>\n",
       "    </tr>\n",
       "    <tr>\n",
       "      <th>133728</th>\n",
       "      <td>11</td>\n",
       "    </tr>\n",
       "    <tr>\n",
       "      <th>134270</th>\n",
       "      <td>8</td>\n",
       "    </tr>\n",
       "  </tbody>\n",
       "</table>\n",
       "</div>"
      ],
      "text/plain": [
       "            thread_label_id\n",
       "thread_num                 \n",
       "126856                   12\n",
       "132415                   12\n",
       "134482                   12\n",
       "133728                   11\n",
       "134270                    8"
      ]
     },
     "execution_count": 46,
     "metadata": {},
     "output_type": "execute_result"
    }
   ],
   "source": [
    "lab=pd.Series(third)\n",
    "ans = pd.concat([thread_test[\"thread_num\"],lab], axis=1, keys=['thread_num', 'thread_label_id'])\n",
    "ans=ans.set_index(\"thread_num\")\n",
    "ans.head()"
   ]
  },
  {
   "cell_type": "code",
   "execution_count": 19,
   "metadata": {},
   "outputs": [],
   "source": [
    "ans.to_csv(r\"E:\\Nikita\\Kaggle\\Mafia gametype\\subm\\sol10.csv\")"
   ]
  },
  {
   "cell_type": "code",
   "execution_count": 17,
   "metadata": {},
   "outputs": [
    {
     "name": "stdout",
     "output_type": "stream",
     "text": [
      "[ 8  1  8  1  8  1  4  8  9  2  1  8  1  8  8  2  8  1  2  8 10  1  8  8\n",
      "  1  8  8  2  8  2  2  8  8  8  1  8  2  2  4  8  1  9  4  1  8  4  2  8\n",
      "  8  8  2 10  1  4  8  2  1  9  4  8  1  2  8  8  1  2  8  1  8  4  9  1\n",
      "  8  0  4  2  2  4  1  9  8  8  8  3  2  2  1  8  8  8  4  0  1  2  8  8\n",
      "  1  1  8  4  4  1  2  8  8  8  8  4  4  4  4  8  8  8  8  8  2  1  8  8\n",
      "  8  2  8  0  8  2  2  2  8  2  8  4  2  1  8  2  8  8  8  9  8  2  2  2\n",
      "  8  1  8  8  3  4  4  8  1  4  8  2  2  8  8  8  4  1  2  1  8  8  8  4\n",
      "  8  8  1  8  4  8  1  2  2  8  8  1  8  8  8  8  4  4  1  8  4  8  1  4\n",
      "  9  1  2  1  1  8  1  1  1  2  2  8  2  1  8  2  1  8  1  8  8  2  1  8\n",
      "  8  8  4  8  8  8  1  8  4  4  8  4  4 10  8  8  4  3  2  8]\n",
      "[ 3  8  8  1  3  8  4  3  9  8  1 11  8  8  8  8  3  8  8  3  4  8  8  3\n",
      "  8  8  3  8  3  3  8  3  3  8  8  3  8  8  8  3  8  8  8  1  3  8  8  3\n",
      "  3  8  8  8  1  8  3  8  8  8  8  3  1  8  8  8  1  4  8  8  8  8  8  8\n",
      "  3  8  8  8  8  3  8  9  3  8  8  8  8  3  8  3  3  8  8  8  8  3  8  4\n",
      "  1  3  8  8  1  8  3  8  3  8  8  8  8  8  8  8  8  8  2  8  8  8  8  3\n",
      "  8  8  8  3  8  8  8 12  8 11  2  8 11  8  8  8  3  9  8  8  8  8  3  8\n",
      "  3  8  8  4  8  8  3  2  8  3  3  3  2  1  8  9  3 12  8  4  3  3  1  3\n",
      "  8  1  2  8  8  1  3  3  3  2  8  1  3  2 12  1  8  8  1  3  1  8  3  8\n",
      "  4  8  8  2  3  8  8  2  8  3  1  3  3  8  8  3  3  8  8  3  2  8  8  8\n",
      "  8  3  1  8  4  8 11  8  8  8  8]\n",
      "[ 8 11  4  1  8  8  0  8  0  2  1  8 11  8 11  6 12  1 11  8  6  1  8  8\n",
      "  1  0  8  2  3  1  4  8  8  8  1  8  8  2 11  8  1  9  2  1  8  1  4  8\n",
      "  8  5  2  1  1  4  8  2  1  9  4  8  1  8  8  8  1  4  8  1  8  3  9  1\n",
      "  3  0  0  0  6  2  1  9  8  0  8  0  4  3  1  8  8  8  4  0  1  4  8 12\n",
      "  6  1  8  4  4  1  8  8  8  8 11  3 11  4 11  8  5  8  3 12  4  4  1 12\n",
      "  8  2  8  0  8  8  8  2  8  2  8  8  4 11 12  3  8  8  3  8  8  8  2  6\n",
      "  8  1  8  8  3  8  0  8  1  0  8  4  2  8  8  8  4  1  2  0  8  8  8  8\n",
      "  8  8  1  8 10  3  1  4  8  8  8  8  8  3  8  8  4  0  8  3  6  8  1  8\n",
      "  8  1  4  1  1  8  1  8  1  3  2  8  6  1  8  8  2  8  1  1  8  2  1  8\n",
      "  8  3  4  8  8 10  1  7  4  2  4  4  3  4 12 12  2 10 10  8]\n"
     ]
    }
   ],
   "source": [
    "print(first)\n",
    "print(second.data)\n",
    "print(third)"
   ]
  },
  {
   "cell_type": "code",
   "execution_count": null,
   "metadata": {},
   "outputs": [],
   "source": []
  },
  {
   "cell_type": "code",
   "execution_count": null,
   "metadata": {},
   "outputs": [],
   "source": []
  }
 ],
 "metadata": {
  "kernelspec": {
   "display_name": "Python 3",
   "language": "python",
   "name": "python3"
  },
  "language_info": {
   "codemirror_mode": {
    "name": "ipython",
    "version": 3
   },
   "file_extension": ".py",
   "mimetype": "text/x-python",
   "name": "python",
   "nbconvert_exporter": "python",
   "pygments_lexer": "ipython3",
   "version": "3.7.1"
  }
 },
 "nbformat": 4,
 "nbformat_minor": 2
}
