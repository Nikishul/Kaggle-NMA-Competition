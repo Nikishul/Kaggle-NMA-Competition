{
 "cells": [
  {
   "cell_type": "code",
   "execution_count": 1,
   "metadata": {},
   "outputs": [],
   "source": [
    "import os\n",
    "import sys\n",
    "import pandas as pd\n",
    "import numpy as np\n",
    "from sklearn.feature_extraction.text import CountVectorizer, TfidfVectorizer\n",
    "from sklearn.model_selection import train_test_split\n",
    "from nltk.corpus import stopwords\n",
    "from sklearn.svm import LinearSVC\n",
    "import matplotlib\n",
    "from sklearn.metrics import accuracy_score\n",
    "from matplotlib import pyplot as plt\n",
    "%matplotlib inline\n",
    "\n",
    "module_path = os.path.abspath(os.path.join('..'))\n",
    "if module_path not in sys.path:\n",
    "        sys.path.append(module_path)\n",
    "        \n",
    "from src import data_prepare\n",
    "\n",
    "import seaborn as sns\n",
    "from sklearn.metrics import confusion_matrix\n",
    "\n",
    "\n",
    "from sklearn.ensemble import RandomForestClassifier\n",
    "from skmultilearn.problem_transform import ClassifierChain\n",
    "from sklearn.linear_model import LogisticRegression\n",
    "from skmultilearn.problem_transform import BinaryRelevance\n",
    "from sklearn.naive_bayes import GaussianNB\n",
    "from sklearn.model_selection import cross_val_score\n",
    "from sklearn.naive_bayes import MultinomialNB\n",
    "\n",
    "import warnings\n",
    "warnings.filterwarnings('ignore')"
   ]
  },
  {
   "cell_type": "code",
   "execution_count": 2,
   "metadata": {},
   "outputs": [],
   "source": [
    "post, thread=data_prepare.load_train_data()\n",
    "post_test, thread_test=data_prepare.load_test_data()\n",
    "label_map=data_prepare.load_label_map()"
   ]
  },
  {
   "cell_type": "code",
   "execution_count": 3,
   "metadata": {},
   "outputs": [
    {
     "data": {
      "text/html": [
       "<div>\n",
       "<style scoped>\n",
       "    .dataframe tbody tr th:only-of-type {\n",
       "        vertical-align: middle;\n",
       "    }\n",
       "\n",
       "    .dataframe tbody tr th {\n",
       "        vertical-align: top;\n",
       "    }\n",
       "\n",
       "    .dataframe thead th {\n",
       "        text-align: right;\n",
       "    }\n",
       "</style>\n",
       "<table border=\"1\" class=\"dataframe\">\n",
       "  <thead>\n",
       "    <tr style=\"text-align: right;\">\n",
       "      <th></th>\n",
       "      <th>type_id</th>\n",
       "      <th>description</th>\n",
       "    </tr>\n",
       "    <tr>\n",
       "      <th>type_name</th>\n",
       "      <th></th>\n",
       "      <th></th>\n",
       "    </tr>\n",
       "  </thead>\n",
       "  <tbody>\n",
       "    <tr>\n",
       "      <th>bastard</th>\n",
       "      <td>0</td>\n",
       "      <td>These are mafia games where the moderator is a...</td>\n",
       "    </tr>\n",
       "    <tr>\n",
       "      <th>beginners-mafia</th>\n",
       "      <td>1</td>\n",
       "      <td>Simple games with fixed rules, tailored toward...</td>\n",
       "    </tr>\n",
       "    <tr>\n",
       "      <th>byor</th>\n",
       "      <td>2</td>\n",
       "      <td>\"Bring Your Own Role\": custom games where the ...</td>\n",
       "    </tr>\n",
       "    <tr>\n",
       "      <th>classic</th>\n",
       "      <td>3</td>\n",
       "      <td>In \"classic\" games, all players know what role...</td>\n",
       "    </tr>\n",
       "    <tr>\n",
       "      <th>closed-setup</th>\n",
       "      <td>4</td>\n",
       "      <td>Closed setups mean that players do not know wh...</td>\n",
       "    </tr>\n",
       "    <tr>\n",
       "      <th>cybrid</th>\n",
       "      <td>5</td>\n",
       "      <td>A custom, titled mafia game with multiple \"evi...</td>\n",
       "    </tr>\n",
       "    <tr>\n",
       "      <th>kotm</th>\n",
       "      <td>6</td>\n",
       "      <td>\"King of the Mafia\": multiple mafia mini-games...</td>\n",
       "    </tr>\n",
       "    <tr>\n",
       "      <th>non-mafia-game</th>\n",
       "      <td>7</td>\n",
       "      <td>Games which are sufficiently different from Ma...</td>\n",
       "    </tr>\n",
       "    <tr>\n",
       "      <th>other</th>\n",
       "      <td>8</td>\n",
       "      <td>Non-game threads, such as discussion topics, s...</td>\n",
       "    </tr>\n",
       "    <tr>\n",
       "      <th>paranormal</th>\n",
       "      <td>9</td>\n",
       "      <td>A custom, titled mafia game with a fixed role ...</td>\n",
       "    </tr>\n",
       "    <tr>\n",
       "      <th>supernatural</th>\n",
       "      <td>10</td>\n",
       "      <td>A custom, titled mafia game with hidden (but c...</td>\n",
       "    </tr>\n",
       "    <tr>\n",
       "      <th>vanilla</th>\n",
       "      <td>11</td>\n",
       "      <td>Simple games with fixed rules, using only the ...</td>\n",
       "    </tr>\n",
       "    <tr>\n",
       "      <th>vengeful</th>\n",
       "      <td>12</td>\n",
       "      <td>Very small games; they have no nights or mafia...</td>\n",
       "    </tr>\n",
       "  </tbody>\n",
       "</table>\n",
       "</div>"
      ],
      "text/plain": [
       "                 type_id                                        description\n",
       "type_name                                                                  \n",
       "bastard                0  These are mafia games where the moderator is a...\n",
       "beginners-mafia        1  Simple games with fixed rules, tailored toward...\n",
       "byor                   2  \"Bring Your Own Role\": custom games where the ...\n",
       "classic                3  In \"classic\" games, all players know what role...\n",
       "closed-setup           4  Closed setups mean that players do not know wh...\n",
       "cybrid                 5  A custom, titled mafia game with multiple \"evi...\n",
       "kotm                   6  \"King of the Mafia\": multiple mafia mini-games...\n",
       "non-mafia-game         7  Games which are sufficiently different from Ma...\n",
       "other                  8  Non-game threads, such as discussion topics, s...\n",
       "paranormal             9  A custom, titled mafia game with a fixed role ...\n",
       "supernatural          10  A custom, titled mafia game with hidden (but c...\n",
       "vanilla               11  Simple games with fixed rules, using only the ...\n",
       "vengeful              12  Very small games; they have no nights or mafia..."
      ]
     },
     "execution_count": 3,
     "metadata": {},
     "output_type": "execute_result"
    }
   ],
   "source": [
    "label_map"
   ]
  },
  {
   "cell_type": "code",
   "execution_count": 3,
   "metadata": {},
   "outputs": [],
   "source": [
    "num=len(thread)\n",
    "train_data_to_clean=[]\n",
    "test_data_to_clean=[]"
   ]
  },
  {
   "cell_type": "code",
   "execution_count": 5,
   "metadata": {},
   "outputs": [
    {
     "data": {
      "text/html": [
       "<div>\n",
       "<style scoped>\n",
       "    .dataframe tbody tr th:only-of-type {\n",
       "        vertical-align: middle;\n",
       "    }\n",
       "\n",
       "    .dataframe tbody tr th {\n",
       "        vertical-align: top;\n",
       "    }\n",
       "\n",
       "    .dataframe thead th {\n",
       "        text-align: right;\n",
       "    }\n",
       "</style>\n",
       "<table border=\"1\" class=\"dataframe\">\n",
       "  <thead>\n",
       "    <tr style=\"text-align: right;\">\n",
       "      <th></th>\n",
       "      <th>thread_num</th>\n",
       "      <th>user</th>\n",
       "      <th>text</th>\n",
       "      <th>quotes</th>\n",
       "    </tr>\n",
       "  </thead>\n",
       "  <tbody>\n",
       "    <tr>\n",
       "      <th>0</th>\n",
       "      <td>45016</td>\n",
       "      <td>Mephansteras</td>\n",
       "      <td>Basically, this is where we talk about what ga...</td>\n",
       "      <td></td>\n",
       "    </tr>\n",
       "    <tr>\n",
       "      <th>1</th>\n",
       "      <td>45016</td>\n",
       "      <td>dakarian</td>\n",
       "      <td>The currently running or about to run games (i...</td>\n",
       "      <td></td>\n",
       "    </tr>\n",
       "    <tr>\n",
       "      <th>2</th>\n",
       "      <td>45016</td>\n",
       "      <td>webadict</td>\n",
       "      <td>And mine's started.\\r\\r\\r\\n\\r\\r\\r\\nI'll try to...</td>\n",
       "      <td></td>\n",
       "    </tr>\n",
       "  </tbody>\n",
       "</table>\n",
       "</div>"
      ],
      "text/plain": [
       "   thread_num          user  \\\n",
       "0       45016  Mephansteras   \n",
       "1       45016      dakarian   \n",
       "2       45016      webadict   \n",
       "\n",
       "                                                text quotes  \n",
       "0  Basically, this is where we talk about what ga...         \n",
       "1  The currently running or about to run games (i...         \n",
       "2  And mine's started.\\r\\r\\r\\n\\r\\r\\r\\nI'll try to...         "
      ]
     },
     "execution_count": 5,
     "metadata": {},
     "output_type": "execute_result"
    }
   ],
   "source": [
    "post.head(3)"
   ]
  },
  {
   "cell_type": "code",
   "execution_count": 6,
   "metadata": {},
   "outputs": [
    {
     "data": {
      "text/html": [
       "<div>\n",
       "<style scoped>\n",
       "    .dataframe tbody tr th:only-of-type {\n",
       "        vertical-align: middle;\n",
       "    }\n",
       "\n",
       "    .dataframe tbody tr th {\n",
       "        vertical-align: top;\n",
       "    }\n",
       "\n",
       "    .dataframe thead th {\n",
       "        text-align: right;\n",
       "    }\n",
       "</style>\n",
       "<table border=\"1\" class=\"dataframe\">\n",
       "  <thead>\n",
       "    <tr style=\"text-align: right;\">\n",
       "      <th></th>\n",
       "      <th>thread_num</th>\n",
       "      <th>thread_name</th>\n",
       "      <th>thread_label</th>\n",
       "      <th>thread_replies</th>\n",
       "      <th>thread_label_id</th>\n",
       "    </tr>\n",
       "  </thead>\n",
       "  <tbody>\n",
       "    <tr>\n",
       "      <th>0</th>\n",
       "      <td>45016</td>\n",
       "      <td>Games Threshold Discussion and List [Vote for ...</td>\n",
       "      <td>other</td>\n",
       "      <td>5703</td>\n",
       "      <td>8</td>\n",
       "    </tr>\n",
       "    <tr>\n",
       "      <th>1</th>\n",
       "      <td>88720</td>\n",
       "      <td>New Player's Guide to the Subforum - New to Ma...</td>\n",
       "      <td>other</td>\n",
       "      <td>961</td>\n",
       "      <td>8</td>\n",
       "    </tr>\n",
       "    <tr>\n",
       "      <th>2</th>\n",
       "      <td>39338</td>\n",
       "      <td>Mafia: A Basic Tutorial</td>\n",
       "      <td>other</td>\n",
       "      <td>79</td>\n",
       "      <td>8</td>\n",
       "    </tr>\n",
       "  </tbody>\n",
       "</table>\n",
       "</div>"
      ],
      "text/plain": [
       "   thread_num                                        thread_name thread_label  \\\n",
       "0       45016  Games Threshold Discussion and List [Vote for ...        other   \n",
       "1       88720  New Player's Guide to the Subforum - New to Ma...        other   \n",
       "2       39338                            Mafia: A Basic Tutorial        other   \n",
       "\n",
       "   thread_replies  thread_label_id  \n",
       "0            5703                8  \n",
       "1             961                8  \n",
       "2              79                8  "
      ]
     },
     "execution_count": 6,
     "metadata": {},
     "output_type": "execute_result"
    }
   ],
   "source": [
    "thread.head(3)"
   ]
  },
  {
   "cell_type": "code",
   "execution_count": 4,
   "metadata": {},
   "outputs": [],
   "source": [
    "train_data_to_clean=data_prepare.get_all_text_data_from_posts(post, thread)\n",
    "    \n",
    "test_data_to_clean=data_prepare.get_all_text_data_from_posts(post_test, thread_test)"
   ]
  },
  {
   "cell_type": "code",
   "execution_count": 5,
   "metadata": {},
   "outputs": [],
   "source": [
    "clean_train_data = [data_prepare.clean(s) for s in train_data_to_clean]\n",
    "    \n",
    "clean_test_data = [data_prepare.clean(s) for s in test_data_to_clean]"
   ]
  },
  {
   "cell_type": "code",
   "execution_count": 6,
   "metadata": {},
   "outputs": [],
   "source": [
    "vectorizer = TfidfVectorizer(min_df=3,sublinear_tf=True, norm='l2', encoding='latin-1', ngram_range=(1, 2))\n",
    "\n",
    "train_data_features = vectorizer.fit_transform(clean_train_data).toarray()\n",
    "\n",
    "test_data_features = vectorizer.transform(clean_test_data).toarray()"
   ]
  },
  {
   "cell_type": "code",
   "execution_count": 7,
   "metadata": {},
   "outputs": [],
   "source": [
    "def get_unique_users(post):\n",
    "    return post.groupby(['thread_num','user'],sort=False).size().reset_index('user').rename(index=str, columns={0: \"number_of_posts\"})\n",
    "def avg_and_dev_in_posts_number(df):\n",
    "    return df.groupby(\"thread_num\",sort=False).mean(), df.groupby(\"thread_num\",sort=False).std()\n",
    "def normalize(s):\n",
    "    return (s-s.mean())/s.max()\n",
    "\n",
    "\n",
    "\n",
    "\n",
    "def get_quotes_data(post):\n",
    "    quotes_data=post[[\"thread_num\",\"quotes\"]]\n",
    "    a=quotes_data.groupby(\"thread_num\",sort=False).size()\n",
    "    b=quotes_data[quotes_data[\"quotes\"]!=''].groupby(\"thread_num\",sort=False).size()\n",
    "    numb_quotes=pd.Series(index=a.index)\n",
    "    for index,item in a.items():\n",
    "        if index in b.index:\n",
    "            numb_quotes[index]=b.loc[index]\n",
    "        else:\n",
    "            numb_quotes[index]=0\n",
    "    q_perc=(numb_quotes/a).as_matrix()\n",
    "    numb_quotes=normalize(numb_quotes.astype(int).as_matrix())\n",
    "\n",
    "    return numb_quotes, q_perc\n"
   ]
  },
  {
   "cell_type": "code",
   "execution_count": 8,
   "metadata": {},
   "outputs": [],
   "source": [
    "unique_users = get_unique_users(post)\n",
    "numb_unique=unique_users.groupby(\"thread_num\",sort=False).nunique()[\"user\"]\n",
    "numb_unique= normalize(numb_unique)\n",
    "\n",
    "avg_numb_of_posts, dev_numb_of_posts = avg_and_dev_in_posts_number(unique_users[[\"number_of_posts\"]])\n",
    "numb_quotes, q_perc=get_quotes_data(post)"
   ]
  },
  {
   "cell_type": "code",
   "execution_count": 9,
   "metadata": {},
   "outputs": [],
   "source": [
    "unique_users_test = get_unique_users(post_test)\n",
    "numb_unique_test=unique_users_test.groupby(\"thread_num\",sort=False).nunique()[\"user\"]\n",
    "numb_unique_test=normalize(numb_unique_test)\n",
    "\n",
    "avg_numb_of_posts_test, dev_numb_of_posts_test = avg_and_dev_in_posts_number(unique_users_test[[\"number_of_posts\"]])\n",
    "numb_quotes_test, q_perc_test=get_quotes_data(post_test)"
   ]
  },
  {
   "cell_type": "code",
   "execution_count": 10,
   "metadata": {},
   "outputs": [],
   "source": [
    "number_train_posts=thread[\"thread_replies\"].as_matrix()\n",
    "number_train_posts=normalize(number_train_posts)\n",
    "\n",
    "number_test_posts=thread_test[\"thread_replies\"].as_matrix()\n",
    "number_test_posts=normalize(number_test_posts)\n",
    "\n",
    "\n",
    "train_data_features=np.concatenate([number_train_posts.reshape(-1,1), numb_unique.as_matrix().reshape(-1,1),\n",
    "                                     numb_quotes.reshape(-1,1),q_perc.reshape(-1,1),\n",
    "                                     avg_numb_of_posts.as_matrix().reshape(-1,1),train_data_features],axis=1)\n",
    "test_data_features=np.concatenate([number_test_posts.reshape(-1,1),numb_unique_test.as_matrix().reshape(-1,1),\n",
    "                             numb_quotes_test.reshape(-1,1),q_perc_test.reshape(-1,1),\n",
    "                             avg_numb_of_posts_test.as_matrix().reshape(-1,1),test_data_features],axis=1)"
   ]
  },
  {
   "cell_type": "code",
   "execution_count": 11,
   "metadata": {},
   "outputs": [],
   "source": [
    "X_test=test_data_features\n",
    "X_train=train_data_features\n",
    "y_train=thread[\"thread_label_id\"]\n",
    "#X_train, X_val, y_train, y_val = train_test_split(train_data_features, thread[\"thread_label_id\"], test_size=0.15, random_state=87)"
   ]
  },
  {
   "cell_type": "code",
   "execution_count": 77,
   "metadata": {},
   "outputs": [
    {
     "name": "stdout",
     "output_type": "stream",
     "text": [
      "-0.09366978710554129\n",
      "0.0\n"
     ]
    }
   ],
   "source": [
    "models = [\n",
    "    RandomForestClassifier(n_estimators=120),\n",
    "    #ClassifierChain(LogisticRegression()),\n",
    "    #BinaryRelevance(GaussianNB()),\n",
    "    LinearSVC(),\n",
    "    #MultinomialNB(),\n",
    "    #LogisticRegression()\n",
    "]\n",
    "\n",
    "#add either pileline(saw it somewhere below) or creating of a datraframe to add additional features"
   ]
  },
  {
   "cell_type": "code",
   "execution_count": 78,
   "metadata": {},
   "outputs": [
    {
     "name": "stdout",
     "output_type": "stream",
     "text": [
      "aaa\n",
      "aaa\n"
     ]
    },
    {
     "data": {
      "image/png": "[encoded data removed]",
      "text/plain": [
       "<Figure size 432x288 with 1 Axes>"
      ]
     },
     "metadata": {
      "needs_background": "light"
     },
     "output_type": "display_data"
    }
   ],
   "source": [
    "CV=4\n",
    "cv_df = pd.DataFrame(index=range(CV * len(models)))\n",
    "entries = []\n",
    "\n",
    "for model in models:\n",
    "    print(\"aaa\")\n",
    "    model_name = model.__class__.__name__\n",
    "    accuracies = cross_val_score(model, X_train, y_train, scoring='accuracy', cv=CV)\n",
    "    for fold_idx, accuracy in enumerate(accuracies):\n",
    "        entries.append((model_name, fold_idx, accuracy))\n",
    "cv_df = pd.DataFrame(entries, columns=['model_name', 'fold_idx', 'accuracy'])\n",
    "\n",
    "\n",
    "sns.boxplot(x='model_name', y='accuracy', data=cv_df)\n",
    "sns.stripplot(x='model_name', y='accuracy', data=cv_df, size=10, jitter=True, edgecolor=\"gray\", linewidth=2)\n",
    "\n",
    "plt.show()"
   ]
  },
  {
   "cell_type": "code",
   "execution_count": null,
   "metadata": {},
   "outputs": [],
   "source": [
    "cv_df.groupby('model_name').accuracy.mean()"
   ]
  },
  {
   "cell_type": "code",
   "execution_count": 17,
   "metadata": {},
   "outputs": [],
   "source": []
  },
  {
   "cell_type": "code",
   "execution_count": null,
   "metadata": {},
   "outputs": [],
   "source": [
    "#classifiers move to separate file\n",
    "\n",
    "classifier = ClassifierChain(LogisticRegression())\n",
    "\n",
    "classifier.fit(train_data_features, y_train.as_matrix())\n",
    "\n",
    "predictions = classifier.predict(val_data_features)\n",
    "# accuracy\n",
    "print(\"Accuracy = \",accuracy_score(y_val,predictions.A))\n",
    "print(\"\\n\")"
   ]
  },
  {
   "cell_type": "code",
   "execution_count": 26,
   "metadata": {},
   "outputs": [
    {
     "name": "stdout",
     "output_type": "stream",
     "text": [
      "Accuracy on the training dataset: 82.57\n",
      "Accuracy on the val dataset: 75.93\n"
     ]
    }
   ],
   "source": [
    "forest = RandomForestClassifier(n_estimators = 110,max_depth=5)\n",
    "\n",
    "forest = forest.fit(X_train, y_train)\n",
    "\n",
    "\n",
    "train_predict = forest.predict(X_train)\n",
    "test_predict = forest.predict(X_val)\n",
    "\n",
    "from sklearn.metrics import accuracy_score\n",
    "acc = accuracy_score(y_val, test_predict)\n",
    "\n",
    "print(\"Accuracy on the training dataset: {:.2f}\".format(accuracy_score(y_train, train_predict)*100))\n",
    "print(\"Accuracy on the val dataset: {:.2f}\".format(accuracy_score(y_val, test_predict)*100))"
   ]
  },
  {
   "cell_type": "code",
   "execution_count": 27,
   "metadata": {},
   "outputs": [
    {
     "data": {
      "image/png": "[encoded data removed]",
      "text/plain": [
       "<Figure size 936x936 with 2 Axes>"
      ]
     },
     "metadata": {
      "needs_background": "light"
     },
     "output_type": "display_data"
    }
   ],
   "source": [
    "conf_mat = confusion_matrix(y_val, test_predict,labels=label_map[\"type_id\"].values)\n",
    "fig, ax = plt.subplots(figsize=(13,13))\n",
    "sns.heatmap(conf_mat, annot=True, fmt='d',xticklabels=label_map.index, yticklabels=label_map.index)\n",
    "plt.ylabel('Actual')\n",
    "plt.xlabel('Predicted')\n",
    "plt.show()"
   ]
  },
  {
   "cell_type": "code",
   "execution_count": null,
   "metadata": {},
   "outputs": [],
   "source": [
    "classifier = BinaryRelevance(GaussianNB())\n",
    "\n",
    "classifier.fit(train_data_features, y_train.as_matrix())\n",
    "\n",
    "predictions = classifier.predict(val_data_features)\n",
    "\n",
    "print(\"Accuracy = \",accuracy_score(y_val,predictions.A))"
   ]
  },
  {
   "cell_type": "code",
   "execution_count": 12,
   "metadata": {},
   "outputs": [],
   "source": [
    "model = LinearSVC()\n",
    "model.fit(X_train, y_train)\n",
    "y_pred = model.predict(X_test)\n",
    "#print(\"Accuracy on val dataset: {:.2f}\".format((accuracy_score(y_pred, y_val))*100))\n"
   ]
  },
  {
   "cell_type": "code",
   "execution_count": 35,
   "metadata": {},
   "outputs": [
    {
     "data": {
      "text/plain": [
       "[<matplotlib.lines.Line2D at 0x2a64dc30ba8>]"
      ]
     },
     "execution_count": 35,
     "metadata": {},
     "output_type": "execute_result"
    },
    {
     "data": {
      "image/png": "[encoded data removed]",
      "text/plain": [
       "<Figure size 432x288 with 1 Axes>"
      ]
     },
     "metadata": {
      "needs_background": "light"
     },
     "output_type": "display_data"
    }
   ],
   "source": [
    "# not to forget, plot of accuracy from number of estimators\n",
    "plt.plot(l,k)"
   ]
  },
  {
   "cell_type": "code",
   "execution_count": 28,
   "metadata": {},
   "outputs": [
    {
     "name": "stdout",
     "output_type": "stream",
     "text": [
      "Accuracy on val dataset: 79.63\n",
      "Accuracy on train dataset: 99.67\n"
     ]
    }
   ],
   "source": [
    "model = LinearSVC()\n",
    "model.fit(X_train, y_train)\n",
    "y_pred = model.predict(X_val)\n",
    "tr_pred=model.predict(X_train)\n",
    "print(\"Accuracy on val dataset: {:.2f}\".format((accuracy_score(y_pred, y_val))*100))\n",
    "print(\"Accuracy on train dataset: {:.2f}\".format((accuracy_score(tr_pred, y_train))*100))"
   ]
  },
  {
   "cell_type": "code",
   "execution_count": 29,
   "metadata": {},
   "outputs": [
    {
     "data": {
      "image/png": "[encoded data removed]",
      "text/plain": [
       "<Figure size 936x936 with 2 Axes>"
      ]
     },
     "metadata": {
      "needs_background": "light"
     },
     "output_type": "display_data"
    }
   ],
   "source": [
    "conf_mat = confusion_matrix(y_val, y_pred,labels=label_map[\"type_id\"].values)\n",
    "fig, ax = plt.subplots(figsize=(13,13))\n",
    "sns.heatmap(conf_mat, annot=True, fmt='d', xticklabels=label_map.index, yticklabels=label_map.index)\n",
    "plt.ylabel('Actual')\n",
    "plt.xlabel('Predicted')\n",
    "plt.show()"
   ]
  },
  {
   "cell_type": "code",
   "execution_count": null,
   "metadata": {},
   "outputs": [],
   "source": [
    "from sklearn.naive_bayes import MultinomialNB\n",
    "from sklearn.pipeline import Pipeline\n",
    "from sklearn.feature_extraction.text import TfidfTransformer\n",
    "\n",
    "nb = Pipeline([('vect', CountVectorizer()),\n",
    "               ('tfidf', TfidfTransformer()),\n",
    "               ('clf', MultinomialNB()),\n",
    "              ])\n",
    "nb.fit(X_train, y_train)\n",
    "\n",
    "%%time\n",
    "from sklearn.metrics import classification_report\n",
    "y_pred = nb.predict(X_test)\n",
    "\n",
    "print('accuracy %s' % accuracy_score(y_pred, y_test))\n",
    "print(classification_report(y_test, y_pred,target_names=my_tags))"
   ]
  },
  {
   "cell_type": "code",
   "execution_count": 14,
   "metadata": {},
   "outputs": [],
   "source": [
    "from sklearn.tree import DecisionTreeClassifier\n",
    "\n",
    "cls = DecisionTreeClassifier(random_state=1000)\n",
    "cls.fit(train_data_features, y_train)\n",
    "third = cls.predict(test_data_features)"
   ]
  },
  {
   "cell_type": "code",
   "execution_count": null,
   "metadata": {},
   "outputs": [],
   "source": []
  },
  {
   "cell_type": "code",
   "execution_count": 15,
   "metadata": {},
   "outputs": [
    {
     "data": {
      "text/html": [
       "<div>\n",
       "<style scoped>\n",
       "    .dataframe tbody tr th:only-of-type {\n",
       "        vertical-align: middle;\n",
       "    }\n",
       "\n",
       "    .dataframe tbody tr th {\n",
       "        vertical-align: top;\n",
       "    }\n",
       "\n",
       "    .dataframe thead th {\n",
       "        text-align: right;\n",
       "    }\n",
       "</style>\n",
       "<table border=\"1\" class=\"dataframe\">\n",
       "  <thead>\n",
       "    <tr style=\"text-align: right;\">\n",
       "      <th></th>\n",
       "      <th>thread_label_id</th>\n",
       "    </tr>\n",
       "    <tr>\n",
       "      <th>thread_num</th>\n",
       "      <th></th>\n",
       "    </tr>\n",
       "  </thead>\n",
       "  <tbody>\n",
       "    <tr>\n",
       "      <th>126856</th>\n",
       "      <td>8</td>\n",
       "    </tr>\n",
       "    <tr>\n",
       "      <th>132415</th>\n",
       "      <td>8</td>\n",
       "    </tr>\n",
       "    <tr>\n",
       "      <th>134482</th>\n",
       "      <td>8</td>\n",
       "    </tr>\n",
       "    <tr>\n",
       "      <th>133728</th>\n",
       "      <td>1</td>\n",
       "    </tr>\n",
       "    <tr>\n",
       "      <th>134270</th>\n",
       "      <td>8</td>\n",
       "    </tr>\n",
       "  </tbody>\n",
       "</table>\n",
       "</div>"
      ],
      "text/plain": [
       "            thread_label_id\n",
       "thread_num                 \n",
       "126856                    8\n",
       "132415                    8\n",
       "134482                    8\n",
       "133728                    1\n",
       "134270                    8"
      ]
     },
     "execution_count": 15,
     "metadata": {},
     "output_type": "execute_result"
    }
   ],
   "source": [
    "lab=pd.Series(pred)\n",
    "ans = pd.concat([thread_test[\"thread_num\"],lab], axis=1, keys=['thread_num', 'thread_label_id'])\n",
    "ans=ans.set_index(\"thread_num\")\n",
    "ans.head()"
   ]
  },
  {
   "cell_type": "code",
   "execution_count": 16,
   "metadata": {},
   "outputs": [],
   "source": [
    "path=os.path.join(module_path,\"submissions\")\n",
    "ans.to_csv(os.path.join(path,\"sol30.csv\"))"
   ]
  },
  {
   "cell_type": "code",
   "execution_count": 27,
   "metadata": {},
   "outputs": [
    {
     "name": "stdout",
     "output_type": "stream",
     "text": [
      "Accuracy on val dataset: 1.00\n",
      "Accuracy on val dataset: 96.89\n"
     ]
    }
   ],
   "source": [
    "test_predict = forest.predict(X_train)\n",
    "\n",
    "from sklearn.metrics import accuracy_score\n",
    "acc = accuracy_score(y_train, test_predict)\n",
    "print(\"Accuracy on val dataset: {:.2f}\".format(acc))\n",
    "y_pred = model.predict(X_train)\n",
    "print(\"Accuracy on val dataset: {:.2f}\".format((accuracy_score(y_pred, y_train))*100))"
   ]
  },
  {
   "cell_type": "code",
   "execution_count": 29,
   "metadata": {},
   "outputs": [],
   "source": [
    "z=(y_pred==pred)\n",
    "key_words=pd.Series(label_map.index)"
   ]
  },
  {
   "cell_type": "code",
   "execution_count": 30,
   "metadata": {},
   "outputs": [
    {
     "name": "stdout",
     "output_type": "stream",
     "text": [
      "9 closed-setup byor\n",
      "16 other vengeful\n",
      "27 byor bastard\n",
      "42 closed-setup byor\n",
      "46 closed-setup byor\n",
      "49 other cybrid\n",
      "51 supernatural bastard\n",
      "55 closed-setup byor\n",
      "68 other bastard\n",
      "70 paranormal bastard\n",
      "75 other bastard\n",
      "93 paranormal byor\n",
      "106 paranormal supernatural\n",
      "111 other cybrid\n",
      "112 other cybrid\n",
      "113 other cybrid\n",
      "116 paranormal supernatural\n",
      "121 closed-setup byor\n",
      "123 closed-setup byor\n",
      "134 other vengeful\n",
      "135 closed-setup byor\n",
      "142 byor bastard\n",
      "150 closed-setup byor\n",
      "153 closed-setup bastard\n",
      "176 other byor\n",
      "207 other byor\n",
      "227 closed-setup vengeful\n",
      "230 other vengeful\n",
      "231 closed-setup vengeful\n",
      "234 paranormal supernatural\n"
     ]
    }
   ],
   "source": [
    "for index,item in enumerate(z):\n",
    "    if not item:\n",
    "        print(index, key_words[y_pred[index]],key_words[pred[index]])"
   ]
  }
 ],
 "metadata": {
  "kernelspec": {
   "display_name": "Python 3",
   "language": "python",
   "name": "python3"
  },
  "language_info": {
   "codemirror_mode": {
    "name": "ipython",
    "version": 3
   },
   "file_extension": ".py",
   "mimetype": "text/x-python",
   "name": "python",
   "nbconvert_exporter": "python",
   "pygments_lexer": "ipython3",
   "version": "3.7.1"
  }
 },
 "nbformat": 4,
 "nbformat_minor": 2
}
