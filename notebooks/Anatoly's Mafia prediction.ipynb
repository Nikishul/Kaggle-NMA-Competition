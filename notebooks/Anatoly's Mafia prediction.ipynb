{
 "cells": [
  {
   "cell_type": "code",
   "execution_count": 36,
   "metadata": {},
   "outputs": [],
   "source": [
    "import os\n",
    "import sys\n",
    "import pandas as pd\n",
    "import numpy as np\n",
    "from sklearn import preprocessing\n",
    "from sklearn.feature_extraction.text import CountVectorizer, TfidfVectorizer\n",
    "from sklearn.model_selection import train_test_split, KFold\n",
    "from nltk.corpus import stopwords\n",
    "from nltk.stem.snowball import SnowballStemmer\n",
    "from sklearn.svm import LinearSVC\n",
    "import matplotlib\n",
    "from sklearn.metrics import accuracy_score\n",
    "from matplotlib import pyplot as plt\n",
    "from sklearn.feature_extraction.text import CountVectorizer\n",
    "%matplotlib inline\n",
    "\n",
    "module_path = os.path.abspath(os.path.join('..'))\n",
    "if module_path not in sys.path:\n",
    "        sys.path.append(module_path)\n",
    "        \n",
    "from src import data_prepare"
   ]
  },
  {
   "cell_type": "code",
   "execution_count": 50,
   "metadata": {},
   "outputs": [],
   "source": [
    "post, thread=data_prepare.load_train_data()\n",
    "post_test, thread_test=data_prepare.load_test_data()\n",
    "label_map=data_prepare.load_label_map()"
   ]
  },
  {
   "cell_type": "code",
   "execution_count": 51,
   "metadata": {},
   "outputs": [
    {
     "data": {
      "text/html": [
       "<div>\n",
       "<style scoped>\n",
       "    .dataframe tbody tr th:only-of-type {\n",
       "        vertical-align: middle;\n",
       "    }\n",
       "\n",
       "    .dataframe tbody tr th {\n",
       "        vertical-align: top;\n",
       "    }\n",
       "\n",
       "    .dataframe thead th {\n",
       "        text-align: right;\n",
       "    }\n",
       "</style>\n",
       "<table border=\"1\" class=\"dataframe\">\n",
       "  <thead>\n",
       "    <tr style=\"text-align: right;\">\n",
       "      <th></th>\n",
       "      <th>type_id</th>\n",
       "      <th>description</th>\n",
       "    </tr>\n",
       "    <tr>\n",
       "      <th>type_name</th>\n",
       "      <th></th>\n",
       "      <th></th>\n",
       "    </tr>\n",
       "  </thead>\n",
       "  <tbody>\n",
       "    <tr>\n",
       "      <th>bastard</th>\n",
       "      <td>0</td>\n",
       "      <td>These are mafia games where the moderator is a...</td>\n",
       "    </tr>\n",
       "    <tr>\n",
       "      <th>beginners-mafia</th>\n",
       "      <td>1</td>\n",
       "      <td>Simple games with fixed rules, tailored toward...</td>\n",
       "    </tr>\n",
       "    <tr>\n",
       "      <th>byor</th>\n",
       "      <td>2</td>\n",
       "      <td>\"Bring Your Own Role\": custom games where the ...</td>\n",
       "    </tr>\n",
       "    <tr>\n",
       "      <th>classic</th>\n",
       "      <td>3</td>\n",
       "      <td>In \"classic\" games, all players know what role...</td>\n",
       "    </tr>\n",
       "    <tr>\n",
       "      <th>closed-setup</th>\n",
       "      <td>4</td>\n",
       "      <td>Closed setups mean that players do not know wh...</td>\n",
       "    </tr>\n",
       "    <tr>\n",
       "      <th>cybrid</th>\n",
       "      <td>5</td>\n",
       "      <td>A custom, titled mafia game with multiple \"evi...</td>\n",
       "    </tr>\n",
       "    <tr>\n",
       "      <th>kotm</th>\n",
       "      <td>6</td>\n",
       "      <td>\"King of the Mafia\": multiple mafia mini-games...</td>\n",
       "    </tr>\n",
       "    <tr>\n",
       "      <th>non-mafia-game</th>\n",
       "      <td>7</td>\n",
       "      <td>Games which are sufficiently different from Ma...</td>\n",
       "    </tr>\n",
       "    <tr>\n",
       "      <th>other</th>\n",
       "      <td>8</td>\n",
       "      <td>Non-game threads, such as discussion topics, s...</td>\n",
       "    </tr>\n",
       "    <tr>\n",
       "      <th>paranormal</th>\n",
       "      <td>9</td>\n",
       "      <td>A custom, titled mafia game with a fixed role ...</td>\n",
       "    </tr>\n",
       "    <tr>\n",
       "      <th>supernatural</th>\n",
       "      <td>10</td>\n",
       "      <td>A custom, titled mafia game with hidden (but c...</td>\n",
       "    </tr>\n",
       "    <tr>\n",
       "      <th>vanilla</th>\n",
       "      <td>11</td>\n",
       "      <td>Simple games with fixed rules, using only the ...</td>\n",
       "    </tr>\n",
       "    <tr>\n",
       "      <th>vengeful</th>\n",
       "      <td>12</td>\n",
       "      <td>Very small games; they have no nights or mafia...</td>\n",
       "    </tr>\n",
       "  </tbody>\n",
       "</table>\n",
       "</div>"
      ],
      "text/plain": [
       "                 type_id                                        description\n",
       "type_name                                                                  \n",
       "bastard                0  These are mafia games where the moderator is a...\n",
       "beginners-mafia        1  Simple games with fixed rules, tailored toward...\n",
       "byor                   2  \"Bring Your Own Role\": custom games where the ...\n",
       "classic                3  In \"classic\" games, all players know what role...\n",
       "closed-setup           4  Closed setups mean that players do not know wh...\n",
       "cybrid                 5  A custom, titled mafia game with multiple \"evi...\n",
       "kotm                   6  \"King of the Mafia\": multiple mafia mini-games...\n",
       "non-mafia-game         7  Games which are sufficiently different from Ma...\n",
       "other                  8  Non-game threads, such as discussion topics, s...\n",
       "paranormal             9  A custom, titled mafia game with a fixed role ...\n",
       "supernatural          10  A custom, titled mafia game with hidden (but c...\n",
       "vanilla               11  Simple games with fixed rules, using only the ...\n",
       "vengeful              12  Very small games; they have no nights or mafia..."
      ]
     },
     "execution_count": 51,
     "metadata": {},
     "output_type": "execute_result"
    }
   ],
   "source": [
    "label_map"
   ]
  },
  {
   "cell_type": "code",
   "execution_count": 52,
   "metadata": {},
   "outputs": [],
   "source": [
    "num=len(thread)\n",
    "train_data_to_clean=[]\n",
    "clean_train_data = []\n",
    "clean_test_data=[]\n",
    "test_data_to_clean=[]"
   ]
  },
  {
   "cell_type": "code",
   "execution_count": 53,
   "metadata": {},
   "outputs": [
    {
     "data": {
      "text/html": [
       "<div>\n",
       "<style scoped>\n",
       "    .dataframe tbody tr th:only-of-type {\n",
       "        vertical-align: middle;\n",
       "    }\n",
       "\n",
       "    .dataframe tbody tr th {\n",
       "        vertical-align: top;\n",
       "    }\n",
       "\n",
       "    .dataframe thead th {\n",
       "        text-align: right;\n",
       "    }\n",
       "</style>\n",
       "<table border=\"1\" class=\"dataframe\">\n",
       "  <thead>\n",
       "    <tr style=\"text-align: right;\">\n",
       "      <th></th>\n",
       "      <th>thread_num</th>\n",
       "      <th>user</th>\n",
       "      <th>text</th>\n",
       "      <th>quotes</th>\n",
       "    </tr>\n",
       "  </thead>\n",
       "  <tbody>\n",
       "    <tr>\n",
       "      <th>0</th>\n",
       "      <td>45016</td>\n",
       "      <td>Mephansteras</td>\n",
       "      <td>Basically, this is where we talk about what ga...</td>\n",
       "      <td>[]</td>\n",
       "    </tr>\n",
       "    <tr>\n",
       "      <th>1</th>\n",
       "      <td>45016</td>\n",
       "      <td>dakarian</td>\n",
       "      <td>The currently running or about to run games (i...</td>\n",
       "      <td>[]</td>\n",
       "    </tr>\n",
       "    <tr>\n",
       "      <th>2</th>\n",
       "      <td>45016</td>\n",
       "      <td>webadict</td>\n",
       "      <td>And mine's started.\\r\\r\\r\\n\\r\\r\\r\\nI'll try to...</td>\n",
       "      <td>[]</td>\n",
       "    </tr>\n",
       "  </tbody>\n",
       "</table>\n",
       "</div>"
      ],
      "text/plain": [
       "   thread_num          user  \\\n",
       "0       45016  Mephansteras   \n",
       "1       45016      dakarian   \n",
       "2       45016      webadict   \n",
       "\n",
       "                                                text quotes  \n",
       "0  Basically, this is where we talk about what ga...     []  \n",
       "1  The currently running or about to run games (i...     []  \n",
       "2  And mine's started.\\r\\r\\r\\n\\r\\r\\r\\nI'll try to...     []  "
      ]
     },
     "execution_count": 53,
     "metadata": {},
     "output_type": "execute_result"
    }
   ],
   "source": [
    "post.head(3)"
   ]
  },
  {
   "cell_type": "code",
   "execution_count": 54,
   "metadata": {},
   "outputs": [
    {
     "data": {
      "text/html": [
       "<div>\n",
       "<style scoped>\n",
       "    .dataframe tbody tr th:only-of-type {\n",
       "        vertical-align: middle;\n",
       "    }\n",
       "\n",
       "    .dataframe tbody tr th {\n",
       "        vertical-align: top;\n",
       "    }\n",
       "\n",
       "    .dataframe thead th {\n",
       "        text-align: right;\n",
       "    }\n",
       "</style>\n",
       "<table border=\"1\" class=\"dataframe\">\n",
       "  <thead>\n",
       "    <tr style=\"text-align: right;\">\n",
       "      <th></th>\n",
       "      <th>thread_num</th>\n",
       "      <th>thread_name</th>\n",
       "      <th>thread_label</th>\n",
       "      <th>thread_replies</th>\n",
       "      <th>thread_label_id</th>\n",
       "    </tr>\n",
       "  </thead>\n",
       "  <tbody>\n",
       "    <tr>\n",
       "      <th>0</th>\n",
       "      <td>45016</td>\n",
       "      <td>Games Threshold Discussion and List [Vote for ...</td>\n",
       "      <td>other</td>\n",
       "      <td>5703</td>\n",
       "      <td>8</td>\n",
       "    </tr>\n",
       "    <tr>\n",
       "      <th>1</th>\n",
       "      <td>88720</td>\n",
       "      <td>New Player's Guide to the Subforum - New to Ma...</td>\n",
       "      <td>other</td>\n",
       "      <td>961</td>\n",
       "      <td>8</td>\n",
       "    </tr>\n",
       "    <tr>\n",
       "      <th>2</th>\n",
       "      <td>39338</td>\n",
       "      <td>Mafia: A Basic Tutorial</td>\n",
       "      <td>other</td>\n",
       "      <td>79</td>\n",
       "      <td>8</td>\n",
       "    </tr>\n",
       "  </tbody>\n",
       "</table>\n",
       "</div>"
      ],
      "text/plain": [
       "   thread_num                                        thread_name thread_label  \\\n",
       "0       45016  Games Threshold Discussion and List [Vote for ...        other   \n",
       "1       88720  New Player's Guide to the Subforum - New to Ma...        other   \n",
       "2       39338                            Mafia: A Basic Tutorial        other   \n",
       "\n",
       "   thread_replies  thread_label_id  \n",
       "0            5703                8  \n",
       "1             961                8  \n",
       "2              79                8  "
      ]
     },
     "execution_count": 54,
     "metadata": {},
     "output_type": "execute_result"
    }
   ],
   "source": [
    "thread.head(3)"
   ]
  },
  {
   "cell_type": "code",
   "execution_count": 55,
   "metadata": {},
   "outputs": [],
   "source": [
    "for item in thread.itertuples():\n",
    "    buf=post[post[\"thread_num\"]==item.thread_num]\n",
    "    line=str()\n",
    "    line=line+item.thread_name\n",
    "    for row in buf.itertuples():\n",
    "        line=line+str(row.text)\n",
    "    train_data_to_clean.append(line)\n",
    "    \n",
    "    \n",
    "    \n",
    "for item in thread_test.itertuples():\n",
    "    buf=post_test[post_test[\"thread_num\"]==item.thread_num]\n",
    "    line=str()\n",
    "    line=line+item.thread_name\n",
    "    for row in buf.itertuples():\n",
    "        line=line+str(row.text)\n",
    "    test_data_to_clean.append(line)"
   ]
  },
  {
   "cell_type": "code",
   "execution_count": 56,
   "metadata": {},
   "outputs": [
    {
     "name": "stderr",
     "output_type": "stream",
     "text": [
      "E:\\Nikita\\Kaggle\\Kaggle-NMA-Competition\\src\\data_prepare.py:28: UserWarning: No parser was explicitly specified, so I'm using the best available HTML parser for this system (\"lxml\"). This usually isn't a problem, but if you run this code on another system, or in a different virtual environment, it may use a different parser and behave differently.\n",
      "\n",
      "The code that caused this warning is on line 28 of the file E:\\Nikita\\Kaggle\\Kaggle-NMA-Competition\\src\\data_prepare.py. To get rid of this warning, pass the additional argument 'features=\"lxml\"' to the BeautifulSoup constructor.\n",
      "\n",
      "  review_text = BeautifulSoup(raw_data).get_text()\n"
     ]
    }
   ],
   "source": [
    "for item in train_data_to_clean:\n",
    "    clean_train_data.append(data_prepare.clean(item))\n",
    "    \n",
    "    \n",
    "for item in test_data_to_clean:\n",
    "    clean_test_data.append(data_prepare.clean(item))"
   ]
  },
  {
   "cell_type": "code",
   "execution_count": 57,
   "metadata": {},
   "outputs": [],
   "source": [
    "#X_test=clean_test_data\n",
    "#X_train=clean_train_data\n",
    "#y_train=thread[\"thread_label_id\"]\n",
    "X_train, X_val, y_train, y_val = train_test_split(clean_train_data, thread[\"thread_label_id\"], test_size=0.2, random_state=111)"
   ]
  },
  {
   "cell_type": "code",
   "execution_count": 58,
   "metadata": {},
   "outputs": [],
   "source": [
    "vectorizer = TfidfVectorizer(sublinear_tf=True, norm='l2', encoding='latin-1', ngram_range=(1, 2))\n",
    "\n",
    "train_data_features = vectorizer.fit_transform(X_train).toarray()\n",
    "\n",
    "test_data_features = vectorizer.transform(X_test).toarray()"
   ]
  },
  {
   "cell_type": "code",
   "execution_count": null,
   "metadata": {},
   "outputs": [],
   "source": []
  },
  {
   "cell_type": "code",
   "execution_count": null,
   "metadata": {},
   "outputs": [],
   "source": [
    "from sklearn.ensemble import RandomForestClassifier\n",
    "forest = RandomForestClassifier(n_estimators = 100)\n",
    "\n",
    "forest = forest.fit(train_data_features, y_train)\n",
    "\n",
    "test_predict = forest.predict(val_data_features)\n",
    "\n",
    "from sklearn.metrics import accuracy_score\n",
    "\n",
    "acc = accuracy_score(y_val, val_predict)\n",
    "\n",
    "print(\"Accuracy on the IMDB dataset: {:.2f}\".format(acc*100))"
   ]
  },
  {
   "cell_type": "code",
   "execution_count": null,
   "metadata": {},
   "outputs": [],
   "source": []
  },
  {
   "cell_type": "code",
   "execution_count": null,
   "metadata": {},
   "outputs": [],
   "source": [
    "from skmultilearn.problem_transform import ClassifierChain\n",
    "from sklearn.linear_model import LogisticRegression\n",
    "\n",
    "classifier = ClassifierChain(LogisticRegression())\n",
    "\n",
    "classifier.fit(train_data_features, y_train.as_matrix())\n",
    "\n",
    "predictions = classifier.predict(val_data_features)\n",
    "# accuracy\n",
    "print(\"Accuracy = \",accuracy_score(y_val,predictions.A))\n",
    "print(\"\\n\")"
   ]
  },
  {
   "cell_type": "code",
   "execution_count": null,
   "metadata": {},
   "outputs": [],
   "source": []
  },
  {
   "cell_type": "code",
   "execution_count": 13,
   "metadata": {},
   "outputs": [],
   "source": [
    "from skmultilearn.problem_transform import BinaryRelevance\n",
    "from sklearn.naive_bayes import GaussianNB\n",
    "\n",
    "classifier = BinaryRelevance(GaussianNB())\n",
    "\n",
    "classifier.fit(train_data_features, y_train.as_matrix())\n",
    "\n",
    "predictions = classifier.predict(val_data_features)\n",
    "\n",
    "print(\"Accuracy = \",accuracy_score(y_val,predictions.A))"
   ]
  },
  {
   "cell_type": "code",
   "execution_count": 59,
   "metadata": {},
   "outputs": [],
   "source": []
  },
  {
   "cell_type": "code",
   "execution_count": null,
   "metadata": {},
   "outputs": [],
   "source": [
    "model = LinearSVC()\n",
    "model.fit(train_data_features, y_train)\n",
    "y_pred = model.predict(val_data_features)\n",
    "\n",
    "# Evaluation\n",
    "print(accuracy_score(y_pred, y_val))"
   ]
  },
  {
   "cell_type": "code",
   "execution_count": 35,
   "metadata": {},
   "outputs": [
    {
     "data": {
      "text/plain": [
       "[<matplotlib.lines.Line2D at 0x2a64dc30ba8>]"
      ]
     },
     "execution_count": 35,
     "metadata": {},
     "output_type": "execute_result"
    },
    {
     "data": {
      "image/png": "[encoded data removed]",
      "text/plain": [
       "<Figure size 432x288 with 1 Axes>"
      ]
     },
     "metadata": {
      "needs_background": "light"
     },
     "output_type": "display_data"
    }
   ],
   "source": [
    "plt.plot(l,k)"
   ]
  },
  {
   "cell_type": "code",
   "execution_count": null,
   "metadata": {},
   "outputs": [],
   "source": []
  },
  {
   "cell_type": "code",
   "execution_count": null,
   "metadata": {},
   "outputs": [],
   "source": []
  },
  {
   "cell_type": "code",
   "execution_count": null,
   "metadata": {},
   "outputs": [],
   "source": [
    "from sklearn.linear_model import LogisticRegression\n",
    "from sklearn.ensemble import RandomForestClassifier\n",
    "from sklearn.svm import LinearSVC\n",
    "from sklearn.model_selection import cross_val_score\n",
    "models = [\n",
    "    RandomForestClassifier(n_estimators=200, max_depth=3, random_state=0),\n",
    "    LinearSVC(),\n",
    "    MultinomialNB(),\n",
    "    LogisticRegression(random_state=0),\n",
    "]\n",
    "CV = 5\n",
    "cv_df = pd.DataFrame(index=range(CV * len(models)))\n",
    "entries = []\n",
    "for model in models:\n",
    "  model_name = model.__class__.__name__\n",
    "  accuracies = cross_val_score(model, features, labels, scoring='accuracy', cv=CV)\n",
    "  for fold_idx, accuracy in enumerate(accuracies):\n",
    "    entries.append((model_name, fold_idx, accuracy))\n",
    "cv_df = pd.DataFrame(entries, columns=['model_name', 'fold_idx', 'accuracy'])\n",
    "import seaborn as sns\n",
    "sns.boxplot(x='model_name', y='accuracy', data=cv_df)\n",
    "sns.stripplot(x='model_name', y='accuracy', data=cv_df, \n",
    "              size=8, jitter=True, edgecolor=\"gray\", linewidth=2)\n",
    "plt.show()"
   ]
  },
  {
   "cell_type": "code",
   "execution_count": 16,
   "metadata": {},
   "outputs": [],
   "source": []
  },
  {
   "cell_type": "code",
   "execution_count": 17,
   "metadata": {},
   "outputs": [],
   "source": []
  },
  {
   "cell_type": "code",
   "execution_count": 18,
   "metadata": {},
   "outputs": [],
   "source": []
  },
  {
   "cell_type": "code",
   "execution_count": null,
   "metadata": {},
   "outputs": [],
   "source": []
  },
  {
   "cell_type": "code",
   "execution_count": 20,
   "metadata": {},
   "outputs": [],
   "source": []
  },
  {
   "cell_type": "code",
   "execution_count": null,
   "metadata": {},
   "outputs": [],
   "source": []
  },
  {
   "cell_type": "code",
   "execution_count": null,
   "metadata": {},
   "outputs": [],
   "source": []
  },
  {
   "cell_type": "code",
   "execution_count": null,
   "metadata": {},
   "outputs": [],
   "source": []
  },
  {
   "cell_type": "code",
   "execution_count": null,
   "metadata": {},
   "outputs": [],
   "source": []
  },
  {
   "cell_type": "code",
   "execution_count": 21,
   "metadata": {},
   "outputs": [
    {
     "data": {
      "text/html": [
       "<div>\n",
       "<style scoped>\n",
       "    .dataframe tbody tr th:only-of-type {\n",
       "        vertical-align: middle;\n",
       "    }\n",
       "\n",
       "    .dataframe tbody tr th {\n",
       "        vertical-align: top;\n",
       "    }\n",
       "\n",
       "    .dataframe thead th {\n",
       "        text-align: right;\n",
       "    }\n",
       "</style>\n",
       "<table border=\"1\" class=\"dataframe\">\n",
       "  <thead>\n",
       "    <tr style=\"text-align: right;\">\n",
       "      <th></th>\n",
       "      <th>posts</th>\n",
       "      <th>absence</th>\n",
       "      <th>accepting</th>\n",
       "      <th>active</th>\n",
       "      <th>activity</th>\n",
       "      <th>actually</th>\n",
       "      <th>age</th>\n",
       "      <th>agent</th>\n",
       "      <th>aka</th>\n",
       "      <th>alien</th>\n",
       "      <th>...</th>\n",
       "      <th>xxiii</th>\n",
       "      <th>xxiv</th>\n",
       "      <th>xxv</th>\n",
       "      <th>ya</th>\n",
       "      <th>yes</th>\n",
       "      <th>yet</th>\n",
       "      <th>yo</th>\n",
       "      <th>zathras</th>\n",
       "      <th>zerzooton</th>\n",
       "      <th>zombie</th>\n",
       "    </tr>\n",
       "  </thead>\n",
       "  <tbody>\n",
       "    <tr>\n",
       "      <th>0</th>\n",
       "      <td>5704</td>\n",
       "      <td>0</td>\n",
       "      <td>0</td>\n",
       "      <td>0</td>\n",
       "      <td>0</td>\n",
       "      <td>0</td>\n",
       "      <td>0</td>\n",
       "      <td>0</td>\n",
       "      <td>0</td>\n",
       "      <td>0</td>\n",
       "      <td>...</td>\n",
       "      <td>0</td>\n",
       "      <td>0</td>\n",
       "      <td>0</td>\n",
       "      <td>0</td>\n",
       "      <td>0</td>\n",
       "      <td>0</td>\n",
       "      <td>0</td>\n",
       "      <td>0</td>\n",
       "      <td>0</td>\n",
       "      <td>0</td>\n",
       "    </tr>\n",
       "    <tr>\n",
       "      <th>1</th>\n",
       "      <td>962</td>\n",
       "      <td>0</td>\n",
       "      <td>0</td>\n",
       "      <td>0</td>\n",
       "      <td>0</td>\n",
       "      <td>0</td>\n",
       "      <td>0</td>\n",
       "      <td>0</td>\n",
       "      <td>0</td>\n",
       "      <td>0</td>\n",
       "      <td>...</td>\n",
       "      <td>0</td>\n",
       "      <td>0</td>\n",
       "      <td>0</td>\n",
       "      <td>0</td>\n",
       "      <td>0</td>\n",
       "      <td>0</td>\n",
       "      <td>0</td>\n",
       "      <td>0</td>\n",
       "      <td>0</td>\n",
       "      <td>0</td>\n",
       "    </tr>\n",
       "    <tr>\n",
       "      <th>2</th>\n",
       "      <td>80</td>\n",
       "      <td>0</td>\n",
       "      <td>0</td>\n",
       "      <td>0</td>\n",
       "      <td>0</td>\n",
       "      <td>0</td>\n",
       "      <td>0</td>\n",
       "      <td>0</td>\n",
       "      <td>0</td>\n",
       "      <td>0</td>\n",
       "      <td>...</td>\n",
       "      <td>0</td>\n",
       "      <td>0</td>\n",
       "      <td>0</td>\n",
       "      <td>0</td>\n",
       "      <td>0</td>\n",
       "      <td>0</td>\n",
       "      <td>0</td>\n",
       "      <td>0</td>\n",
       "      <td>0</td>\n",
       "      <td>0</td>\n",
       "    </tr>\n",
       "    <tr>\n",
       "      <th>3</th>\n",
       "      <td>1720</td>\n",
       "      <td>0</td>\n",
       "      <td>0</td>\n",
       "      <td>0</td>\n",
       "      <td>0</td>\n",
       "      <td>0</td>\n",
       "      <td>0</td>\n",
       "      <td>0</td>\n",
       "      <td>0</td>\n",
       "      <td>0</td>\n",
       "      <td>...</td>\n",
       "      <td>0</td>\n",
       "      <td>0</td>\n",
       "      <td>0</td>\n",
       "      <td>0</td>\n",
       "      <td>0</td>\n",
       "      <td>0</td>\n",
       "      <td>0</td>\n",
       "      <td>0</td>\n",
       "      <td>0</td>\n",
       "      <td>0</td>\n",
       "    </tr>\n",
       "    <tr>\n",
       "      <th>4</th>\n",
       "      <td>308</td>\n",
       "      <td>0</td>\n",
       "      <td>0</td>\n",
       "      <td>0</td>\n",
       "      <td>0</td>\n",
       "      <td>0</td>\n",
       "      <td>0</td>\n",
       "      <td>0</td>\n",
       "      <td>0</td>\n",
       "      <td>0</td>\n",
       "      <td>...</td>\n",
       "      <td>0</td>\n",
       "      <td>0</td>\n",
       "      <td>0</td>\n",
       "      <td>0</td>\n",
       "      <td>0</td>\n",
       "      <td>0</td>\n",
       "      <td>0</td>\n",
       "      <td>0</td>\n",
       "      <td>0</td>\n",
       "      <td>0</td>\n",
       "    </tr>\n",
       "  </tbody>\n",
       "</table>\n",
       "<p>5 rows × 656 columns</p>\n",
       "</div>"
      ],
      "text/plain": [
       "   posts  absence  accepting  active  activity  actually  age  agent  aka  \\\n",
       "0   5704        0          0       0         0         0    0      0    0   \n",
       "1    962        0          0       0         0         0    0      0    0   \n",
       "2     80        0          0       0         0         0    0      0    0   \n",
       "3   1720        0          0       0         0         0    0      0    0   \n",
       "4    308        0          0       0         0         0    0      0    0   \n",
       "\n",
       "   alien   ...    xxiii  xxiv  xxv  ya  yes  yet  yo  zathras  zerzooton  \\\n",
       "0      0   ...        0     0    0   0    0    0   0        0          0   \n",
       "1      0   ...        0     0    0   0    0    0   0        0          0   \n",
       "2      0   ...        0     0    0   0    0    0   0        0          0   \n",
       "3      0   ...        0     0    0   0    0    0   0        0          0   \n",
       "4      0   ...        0     0    0   0    0    0   0        0          0   \n",
       "\n",
       "   zombie  \n",
       "0       0  \n",
       "1       0  \n",
       "2       0  \n",
       "3       0  \n",
       "4       0  \n",
       "\n",
       "[5 rows x 656 columns]"
      ]
     },
     "execution_count": 21,
     "metadata": {},
     "output_type": "execute_result"
    }
   ],
   "source": [
    "test_data_features.head()"
   ]
  },
  {
   "cell_type": "code",
   "execution_count": 14,
   "metadata": {},
   "outputs": [],
   "source": [
    "from sklearn.tree import DecisionTreeClassifier\n",
    "\n",
    "cls = DecisionTreeClassifier(random_state=1000)\n",
    "cls.fit(train_data_features, y_train)\n",
    "third = cls.predict(test_data_features)"
   ]
  },
  {
   "cell_type": "code",
   "execution_count": 15,
   "metadata": {},
   "outputs": [],
   "source": []
  },
  {
   "cell_type": "code",
   "execution_count": 60,
   "metadata": {},
   "outputs": [
    {
     "data": {
      "text/html": [
       "<div>\n",
       "<style scoped>\n",
       "    .dataframe tbody tr th:only-of-type {\n",
       "        vertical-align: middle;\n",
       "    }\n",
       "\n",
       "    .dataframe tbody tr th {\n",
       "        vertical-align: top;\n",
       "    }\n",
       "\n",
       "    .dataframe thead th {\n",
       "        text-align: right;\n",
       "    }\n",
       "</style>\n",
       "<table border=\"1\" class=\"dataframe\">\n",
       "  <thead>\n",
       "    <tr style=\"text-align: right;\">\n",
       "      <th></th>\n",
       "      <th>thread_label_id</th>\n",
       "    </tr>\n",
       "    <tr>\n",
       "      <th>thread_num</th>\n",
       "      <th></th>\n",
       "    </tr>\n",
       "  </thead>\n",
       "  <tbody>\n",
       "    <tr>\n",
       "      <th>126856</th>\n",
       "      <td>8</td>\n",
       "    </tr>\n",
       "    <tr>\n",
       "      <th>132415</th>\n",
       "      <td>8</td>\n",
       "    </tr>\n",
       "    <tr>\n",
       "      <th>134482</th>\n",
       "      <td>8</td>\n",
       "    </tr>\n",
       "    <tr>\n",
       "      <th>133728</th>\n",
       "      <td>1</td>\n",
       "    </tr>\n",
       "    <tr>\n",
       "      <th>134270</th>\n",
       "      <td>8</td>\n",
       "    </tr>\n",
       "  </tbody>\n",
       "</table>\n",
       "</div>"
      ],
      "text/plain": [
       "            thread_label_id\n",
       "thread_num                 \n",
       "126856                    8\n",
       "132415                    8\n",
       "134482                    8\n",
       "133728                    1\n",
       "134270                    8"
      ]
     },
     "execution_count": 60,
     "metadata": {},
     "output_type": "execute_result"
    }
   ],
   "source": [
    "lab=pd.Series(test_predict)\n",
    "ans = pd.concat([thread_test[\"thread_num\"],lab], axis=1, keys=['thread_num', 'thread_label_id'])\n",
    "ans=ans.set_index(\"thread_num\")\n",
    "ans.head()"
   ]
  },
  {
   "cell_type": "code",
   "execution_count": null,
   "metadata": {},
   "outputs": [],
   "source": []
  },
  {
   "cell_type": "code",
   "execution_count": null,
   "metadata": {},
   "outputs": [],
   "source": [
    "print(second)"
   ]
  },
  {
   "cell_type": "code",
   "execution_count": null,
   "metadata": {},
   "outputs": [],
   "source": [
    "second=second.data\n",
    "second"
   ]
  },
  {
   "cell_type": "code",
   "execution_count": null,
   "metadata": {},
   "outputs": [],
   "source": []
  },
  {
   "cell_type": "code",
   "execution_count": null,
   "metadata": {},
   "outputs": [],
   "source": []
  },
  {
   "cell_type": "code",
   "execution_count": null,
   "metadata": {},
   "outputs": [],
   "source": []
  },
  {
   "cell_type": "code",
   "execution_count": 46,
   "metadata": {},
   "outputs": [
    {
     "data": {
      "text/html": [
       "<div>\n",
       "<style scoped>\n",
       "    .dataframe tbody tr th:only-of-type {\n",
       "        vertical-align: middle;\n",
       "    }\n",
       "\n",
       "    .dataframe tbody tr th {\n",
       "        vertical-align: top;\n",
       "    }\n",
       "\n",
       "    .dataframe thead th {\n",
       "        text-align: right;\n",
       "    }\n",
       "</style>\n",
       "<table border=\"1\" class=\"dataframe\">\n",
       "  <thead>\n",
       "    <tr style=\"text-align: right;\">\n",
       "      <th></th>\n",
       "      <th>thread_label_id</th>\n",
       "    </tr>\n",
       "    <tr>\n",
       "      <th>thread_num</th>\n",
       "      <th></th>\n",
       "    </tr>\n",
       "  </thead>\n",
       "  <tbody>\n",
       "    <tr>\n",
       "      <th>126856</th>\n",
       "      <td>12</td>\n",
       "    </tr>\n",
       "    <tr>\n",
       "      <th>132415</th>\n",
       "      <td>12</td>\n",
       "    </tr>\n",
       "    <tr>\n",
       "      <th>134482</th>\n",
       "      <td>12</td>\n",
       "    </tr>\n",
       "    <tr>\n",
       "      <th>133728</th>\n",
       "      <td>11</td>\n",
       "    </tr>\n",
       "    <tr>\n",
       "      <th>134270</th>\n",
       "      <td>8</td>\n",
       "    </tr>\n",
       "  </tbody>\n",
       "</table>\n",
       "</div>"
      ],
      "text/plain": [
       "            thread_label_id\n",
       "thread_num                 \n",
       "126856                   12\n",
       "132415                   12\n",
       "134482                   12\n",
       "133728                   11\n",
       "134270                    8"
      ]
     },
     "execution_count": 46,
     "metadata": {},
     "output_type": "execute_result"
    }
   ],
   "source": [
    "lab=pd.Series(third)\n",
    "ans = pd.concat([thread_test[\"thread_num\"],lab], axis=1, keys=['thread_num', 'thread_label_id'])\n",
    "ans=ans.set_index(\"thread_num\")\n",
    "ans.head()"
   ]
  },
  {
   "cell_type": "code",
   "execution_count": 87,
   "metadata": {},
   "outputs": [],
   "source": [
    "module_path=os.path.join(module_path,\"submissions\")\n",
    "ans.to_csv(os.path.join(module_path,\"sol14.csv\"))"
   ]
  },
  {
   "cell_type": "code",
   "execution_count": 17,
   "metadata": {},
   "outputs": [
    {
     "name": "stdout",
     "output_type": "stream",
     "text": [
      "[ 8  1  8  1  8  1  4  8  9  2  1  8  1  8  8  2  8  1  2  8 10  1  8  8\n",
      "  1  8  8  2  8  2  2  8  8  8  1  8  2  2  4  8  1  9  4  1  8  4  2  8\n",
      "  8  8  2 10  1  4  8  2  1  9  4  8  1  2  8  8  1  2  8  1  8  4  9  1\n",
      "  8  0  4  2  2  4  1  9  8  8  8  3  2  2  1  8  8  8  4  0  1  2  8  8\n",
      "  1  1  8  4  4  1  2  8  8  8  8  4  4  4  4  8  8  8  8  8  2  1  8  8\n",
      "  8  2  8  0  8  2  2  2  8  2  8  4  2  1  8  2  8  8  8  9  8  2  2  2\n",
      "  8  1  8  8  3  4  4  8  1  4  8  2  2  8  8  8  4  1  2  1  8  8  8  4\n",
      "  8  8  1  8  4  8  1  2  2  8  8  1  8  8  8  8  4  4  1  8  4  8  1  4\n",
      "  9  1  2  1  1  8  1  1  1  2  2  8  2  1  8  2  1  8  1  8  8  2  1  8\n",
      "  8  8  4  8  8  8  1  8  4  4  8  4  4 10  8  8  4  3  2  8]\n",
      "[ 3  8  8  1  3  8  4  3  9  8  1 11  8  8  8  8  3  8  8  3  4  8  8  3\n",
      "  8  8  3  8  3  3  8  3  3  8  8  3  8  8  8  3  8  8  8  1  3  8  8  3\n",
      "  3  8  8  8  1  8  3  8  8  8  8  3  1  8  8  8  1  4  8  8  8  8  8  8\n",
      "  3  8  8  8  8  3  8  9  3  8  8  8  8  3  8  3  3  8  8  8  8  3  8  4\n",
      "  1  3  8  8  1  8  3  8  3  8  8  8  8  8  8  8  8  8  2  8  8  8  8  3\n",
      "  8  8  8  3  8  8  8 12  8 11  2  8 11  8  8  8  3  9  8  8  8  8  3  8\n",
      "  3  8  8  4  8  8  3  2  8  3  3  3  2  1  8  9  3 12  8  4  3  3  1  3\n",
      "  8  1  2  8  8  1  3  3  3  2  8  1  3  2 12  1  8  8  1  3  1  8  3  8\n",
      "  4  8  8  2  3  8  8  2  8  3  1  3  3  8  8  3  3  8  8  3  2  8  8  8\n",
      "  8  3  1  8  4  8 11  8  8  8  8]\n",
      "[ 8 11  4  1  8  8  0  8  0  2  1  8 11  8 11  6 12  1 11  8  6  1  8  8\n",
      "  1  0  8  2  3  1  4  8  8  8  1  8  8  2 11  8  1  9  2  1  8  1  4  8\n",
      "  8  5  2  1  1  4  8  2  1  9  4  8  1  8  8  8  1  4  8  1  8  3  9  1\n",
      "  3  0  0  0  6  2  1  9  8  0  8  0  4  3  1  8  8  8  4  0  1  4  8 12\n",
      "  6  1  8  4  4  1  8  8  8  8 11  3 11  4 11  8  5  8  3 12  4  4  1 12\n",
      "  8  2  8  0  8  8  8  2  8  2  8  8  4 11 12  3  8  8  3  8  8  8  2  6\n",
      "  8  1  8  8  3  8  0  8  1  0  8  4  2  8  8  8  4  1  2  0  8  8  8  8\n",
      "  8  8  1  8 10  3  1  4  8  8  8  8  8  3  8  8  4  0  8  3  6  8  1  8\n",
      "  8  1  4  1  1  8  1  8  1  3  2  8  6  1  8  8  2  8  1  1  8  2  1  8\n",
      "  8  3  4  8  8 10  1  7  4  2  4  4  3  4 12 12  2 10 10  8]\n"
     ]
    }
   ],
   "source": [
    "print(first)\n",
    "print(second.data)\n",
    "print(third)"
   ]
  },
  {
   "cell_type": "code",
   "execution_count": null,
   "metadata": {},
   "outputs": [],
   "source": []
  },
  {
   "cell_type": "code",
   "execution_count": null,
   "metadata": {},
   "outputs": [],
   "source": []
  },
  {
   "cell_type": "code",
   "execution_count": null,
   "metadata": {},
   "outputs": [],
   "source": []
  },
  {
   "cell_type": "code",
   "execution_count": null,
   "metadata": {},
   "outputs": [],
   "source": []
  }
 ],
 "metadata": {
  "kernelspec": {
   "display_name": "Python 3",
   "language": "python",
   "name": "python3"
  }
 },
 "nbformat": 4,
 "nbformat_minor": 2
}
