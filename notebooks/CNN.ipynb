{
 "cells": [
  {
   "cell_type": "markdown",
   "metadata": {},
   "source": [
    "# Convolutional neural network model notebook"
   ]
  },
  {
   "cell_type": "code",
   "execution_count": 1,
   "metadata": {},
   "outputs": [
    {
     "name": "stderr",
     "output_type": "stream",
     "text": [
      "Using TensorFlow backend.\n"
     ]
    }
   ],
   "source": [
    "import os\n",
    "import sys\n",
    "import numpy as np\n",
    "import matplotlib.pyplot as plt\n",
    "%matplotlib inline\n",
    "import pandas as pd\n",
    "import keras\n",
    "\n",
    "from sklearn.feature_extraction.text import CountVectorizer, TfidfVectorizer\n",
    "\n",
    "module_path = os.path.abspath(r\"E:\\Nikita\\Kaggle\\Kaggle-NMA-Competition\")\n",
    "if module_path not in sys.path:\n",
    "    sys.path.append(module_path)\n",
    "from src import data_prepare\n",
    "from src import feature_extraction\n",
    "\n",
    "import warnings\n",
    "warnings.filterwarnings('ignore')"
   ]
  },
  {
   "cell_type": "markdown",
   "metadata": {},
   "source": [
    "## Load and clean data"
   ]
  },
  {
   "cell_type": "code",
   "execution_count": 2,
   "metadata": {},
   "outputs": [],
   "source": [
    "post, thread=data_prepare.load_train_data()\n",
    "post_test, thread_test=data_prepare.load_test_data()\n",
    "label_map=data_prepare.load_label_map()"
   ]
  },
  {
   "cell_type": "code",
   "execution_count": 3,
   "metadata": {},
   "outputs": [],
   "source": [
    "train_data_to_clean=data_prepare.get_all_text_data_from_posts(post, thread)\n",
    "test_data_to_clean=data_prepare.get_all_text_data_from_posts(post_test, thread_test)\n",
    "\n",
    "clean_train_data = [data_prepare.clean(s) for s in thread[\"thread_name\"]]\n",
    "clean_test_data = [data_prepare.clean(s) for s in thread_test[\"thread_name\"]]"
   ]
  },
  {
   "cell_type": "markdown",
   "metadata": {},
   "source": [
    "## Vectorize text data and get additional features"
   ]
  },
  {
   "cell_type": "code",
   "execution_count": 4,
   "metadata": {},
   "outputs": [],
   "source": [
    "vectorizer = TfidfVectorizer(min_df=3,sublinear_tf=True, norm='l2', encoding='latin-1', ngram_range=(1, 1))\n",
    "\n",
    "train_data_features = vectorizer.fit_transform(clean_train_data).toarray()\n",
    "\n",
    "test_data_features = vectorizer.transform(clean_test_data).toarray()"
   ]
  },
  {
   "cell_type": "code",
   "execution_count": 5,
   "metadata": {},
   "outputs": [],
   "source": [
    "train_data_features=feature_extraction.get_features(post, thread, train_data_features)\n",
    "test_data_features=feature_extraction.get_features(post_test, thread_test, test_data_features)"
   ]
  },
  {
   "cell_type": "markdown",
   "metadata": {},
   "source": [
    "## Reshape and split data  "
   ]
  },
  {
   "cell_type": "code",
   "execution_count": 6,
   "metadata": {},
   "outputs": [],
   "source": [
    "X_test=test_data_features\n",
    "X_train=train_data_features\n",
    "y_train=thread[\"thread_label_id\"]"
   ]
  },
  {
   "cell_type": "code",
   "execution_count": 7,
   "metadata": {},
   "outputs": [
    {
     "name": "stdout",
     "output_type": "stream",
     "text": [
      "(358, 115, 1) (236, 115, 1)\n"
     ]
    }
   ],
   "source": [
    "X_train=X_train.reshape(len(thread),115,1)\n",
    "X_test=X_test.reshape(len(thread_test),115,1)\n",
    "\n",
    "print(X_train.shape,X_test.shape)"
   ]
  },
  {
   "cell_type": "code",
   "execution_count": 8,
   "metadata": {},
   "outputs": [
    {
     "data": {
      "text/plain": [
       "array([ 0,  1,  2,  3,  4,  5,  6,  7,  8,  9, 10, 11, 12], dtype=int64)"
      ]
     },
     "execution_count": 8,
     "metadata": {},
     "output_type": "execute_result"
    }
   ],
   "source": [
    "classes=np.unique(y_train)\n",
    "classes"
   ]
  },
  {
   "cell_type": "code",
   "execution_count": 9,
   "metadata": {},
   "outputs": [],
   "source": [
    "from keras.utils import to_categorical\n",
    "train_Y_one_hot = to_categorical(y_train)"
   ]
  },
  {
   "cell_type": "code",
   "execution_count": 10,
   "metadata": {},
   "outputs": [],
   "source": [
    "from sklearn.model_selection import train_test_split\n",
    "train_X,valid_X,train_label,valid_label = train_test_split(X_train, train_Y_one_hot, test_size=0.1, random_state=24)"
   ]
  },
  {
   "cell_type": "markdown",
   "metadata": {},
   "source": [
    "## Build the network"
   ]
  },
  {
   "cell_type": "code",
   "execution_count": 11,
   "metadata": {},
   "outputs": [],
   "source": [
    "from keras.models import Sequential,Input,Model\n",
    "from keras.layers import Dense, Dropout, Flatten\n",
    "from keras.layers import Conv1D, MaxPooling1D, Conv2D, MaxPooling2D,GlobalMaxPooling1D\n",
    "from keras.layers.normalization import BatchNormalization\n",
    "from keras.layers.advanced_activations import LeakyReLU"
   ]
  },
  {
   "cell_type": "code",
   "execution_count": 12,
   "metadata": {},
   "outputs": [],
   "source": [
    "batch_size = 10\n",
    "epochs = 40\n",
    "num_classes = len(classes)"
   ]
  },
  {
   "cell_type": "code",
   "execution_count": 13,
   "metadata": {},
   "outputs": [],
   "source": [
    "model = Sequential()\n",
    "model.add(Conv1D(10, 5, activation='relu',input_shape=(115,1)))\n",
    "model.add(MaxPooling1D(5))\n",
    "model.add(Conv1D(115, 5, activation='relu'))\n",
    "model.add(GlobalMaxPooling1D())\n",
    "model.add(Dense(115, activation='sigmoid'))\n",
    "model.add(Dense(num_classes, activation='softmax'))"
   ]
  },
  {
   "cell_type": "code",
   "execution_count": 14,
   "metadata": {},
   "outputs": [],
   "source": [
    "model.compile(loss=keras.losses.categorical_crossentropy, optimizer=keras.optimizers.Adam(),metrics=['accuracy'])"
   ]
  },
  {
   "cell_type": "code",
   "execution_count": 15,
   "metadata": {},
   "outputs": [
    {
     "name": "stdout",
     "output_type": "stream",
     "text": [
      "_________________________________________________________________\n",
      "Layer (type)                 Output Shape              Param #   \n",
      "=================================================================\n",
      "conv1d_1 (Conv1D)            (None, 111, 10)           60        \n",
      "_________________________________________________________________\n",
      "max_pooling1d_1 (MaxPooling1 (None, 22, 10)            0         \n",
      "_________________________________________________________________\n",
      "conv1d_2 (Conv1D)            (None, 18, 115)           5865      \n",
      "_________________________________________________________________\n",
      "global_max_pooling1d_1 (Glob (None, 115)               0         \n",
      "_________________________________________________________________\n",
      "dense_1 (Dense)              (None, 115)               13340     \n",
      "_________________________________________________________________\n",
      "dense_2 (Dense)              (None, 13)                1508      \n",
      "=================================================================\n",
      "Total params: 20,773\n",
      "Trainable params: 20,773\n",
      "Non-trainable params: 0\n",
      "_________________________________________________________________\n"
     ]
    }
   ],
   "source": [
    "model.summary()"
   ]
  },
  {
   "cell_type": "markdown",
   "metadata": {},
   "source": [
    "## Train and plot accuracy and loss functions"
   ]
  },
  {
   "cell_type": "code",
   "execution_count": 16,
   "metadata": {},
   "outputs": [
    {
     "name": "stdout",
     "output_type": "stream",
     "text": [
      "Train on 322 samples, validate on 36 samples\n",
      "Epoch 1/40\n",
      "322/322 [==============================] - 1s 2ms/step - loss: 2.1233 - acc: 0.4130 - val_loss: 1.6225 - val_acc: 0.5278\n",
      "Epoch 2/40\n",
      "322/322 [==============================] - 0s 420us/step - loss: 1.4187 - acc: 0.5807 - val_loss: 1.3837 - val_acc: 0.5000\n",
      "Epoch 3/40\n",
      "322/322 [==============================] - 0s 426us/step - loss: 1.2881 - acc: 0.5994 - val_loss: 1.4038 - val_acc: 0.5278\n",
      "Epoch 4/40\n",
      "322/322 [==============================] - 0s 444us/step - loss: 1.2796 - acc: 0.5932 - val_loss: 1.3420 - val_acc: 0.5000\n",
      "Epoch 5/40\n",
      "322/322 [==============================] - 0s 431us/step - loss: 1.2597 - acc: 0.5963 - val_loss: 1.3199 - val_acc: 0.5278\n",
      "Epoch 6/40\n",
      "322/322 [==============================] - 0s 409us/step - loss: 1.2459 - acc: 0.5901 - val_loss: 1.3250 - val_acc: 0.5000\n",
      "Epoch 7/40\n",
      "322/322 [==============================] - 0s 416us/step - loss: 1.2395 - acc: 0.5932 - val_loss: 1.3173 - val_acc: 0.5278\n",
      "Epoch 8/40\n",
      "322/322 [==============================] - 0s 407us/step - loss: 1.2271 - acc: 0.5963 - val_loss: 1.3230 - val_acc: 0.5000\n",
      "Epoch 9/40\n",
      "322/322 [==============================] - 0s 428us/step - loss: 1.2239 - acc: 0.5994 - val_loss: 1.3104 - val_acc: 0.5000\n",
      "Epoch 10/40\n",
      "322/322 [==============================] - 0s 410us/step - loss: 1.2253 - acc: 0.5870 - val_loss: 1.3315 - val_acc: 0.5000\n",
      "Epoch 11/40\n",
      "322/322 [==============================] - 0s 419us/step - loss: 1.2165 - acc: 0.6025 - val_loss: 1.3056 - val_acc: 0.5556\n",
      "Epoch 12/40\n",
      "322/322 [==============================] - 0s 450us/step - loss: 1.2132 - acc: 0.5963 - val_loss: 1.2774 - val_acc: 0.5278\n",
      "Epoch 13/40\n",
      "322/322 [==============================] - 0s 407us/step - loss: 1.2338 - acc: 0.5963 - val_loss: 1.3067 - val_acc: 0.5833\n",
      "Epoch 14/40\n",
      "322/322 [==============================] - 0s 400us/step - loss: 1.2081 - acc: 0.6087 - val_loss: 1.2968 - val_acc: 0.5000\n",
      "Epoch 15/40\n",
      "322/322 [==============================] - 0s 422us/step - loss: 1.1929 - acc: 0.6118 - val_loss: 1.3068 - val_acc: 0.5833\n",
      "Epoch 16/40\n",
      "322/322 [==============================] - 0s 409us/step - loss: 1.1876 - acc: 0.6211 - val_loss: 1.2836 - val_acc: 0.5556\n",
      "Epoch 17/40\n",
      "322/322 [==============================] - 0s 435us/step - loss: 1.1718 - acc: 0.6273 - val_loss: 1.2597 - val_acc: 0.5833\n",
      "Epoch 18/40\n",
      "322/322 [==============================] - 0s 413us/step - loss: 1.1713 - acc: 0.6335 - val_loss: 1.2387 - val_acc: 0.6111\n",
      "Epoch 19/40\n",
      "322/322 [==============================] - 0s 441us/step - loss: 1.1532 - acc: 0.6273 - val_loss: 1.2260 - val_acc: 0.5833\n",
      "Epoch 20/40\n",
      "322/322 [==============================] - 0s 419us/step - loss: 1.1538 - acc: 0.6366 - val_loss: 1.2038 - val_acc: 0.6111\n",
      "Epoch 21/40\n",
      "322/322 [==============================] - 0s 416us/step - loss: 1.1430 - acc: 0.6304 - val_loss: 1.2162 - val_acc: 0.6111\n",
      "Epoch 22/40\n",
      "322/322 [==============================] - 0s 410us/step - loss: 1.1333 - acc: 0.6491 - val_loss: 1.1978 - val_acc: 0.5833\n",
      "Epoch 23/40\n",
      "322/322 [==============================] - 0s 410us/step - loss: 1.1201 - acc: 0.6615 - val_loss: 1.2060 - val_acc: 0.5833\n",
      "Epoch 24/40\n",
      "322/322 [==============================] - 0s 410us/step - loss: 1.1214 - acc: 0.6149 - val_loss: 1.2229 - val_acc: 0.6111\n",
      "Epoch 25/40\n",
      "322/322 [==============================] - 0s 416us/step - loss: 1.0930 - acc: 0.6429 - val_loss: 1.2139 - val_acc: 0.5556\n",
      "Epoch 26/40\n",
      "322/322 [==============================] - 0s 409us/step - loss: 1.0885 - acc: 0.6646 - val_loss: 1.1725 - val_acc: 0.6111\n",
      "Epoch 27/40\n",
      "322/322 [==============================] - 0s 450us/step - loss: 1.0638 - acc: 0.6522 - val_loss: 1.1593 - val_acc: 0.5833\n",
      "Epoch 28/40\n",
      "322/322 [==============================] - 0s 413us/step - loss: 1.0667 - acc: 0.6677 - val_loss: 1.1447 - val_acc: 0.6111\n",
      "Epoch 29/40\n",
      "322/322 [==============================] - 0s 422us/step - loss: 1.0551 - acc: 0.6708 - val_loss: 1.1429 - val_acc: 0.6389\n",
      "Epoch 30/40\n",
      "322/322 [==============================] - 0s 410us/step - loss: 1.0471 - acc: 0.6429 - val_loss: 1.1436 - val_acc: 0.6111\n",
      "Epoch 31/40\n",
      "322/322 [==============================] - 0s 403us/step - loss: 1.0534 - acc: 0.6553 - val_loss: 1.1523 - val_acc: 0.5833\n",
      "Epoch 32/40\n",
      "322/322 [==============================] - 0s 416us/step - loss: 1.0345 - acc: 0.6708 - val_loss: 1.1600 - val_acc: 0.5833\n",
      "Epoch 33/40\n",
      "322/322 [==============================] - 0s 410us/step - loss: 1.0329 - acc: 0.6646 - val_loss: 1.1504 - val_acc: 0.6111\n",
      "Epoch 34/40\n",
      "322/322 [==============================] - 0s 407us/step - loss: 1.0195 - acc: 0.6739 - val_loss: 1.1674 - val_acc: 0.5556\n",
      "Epoch 35/40\n",
      "322/322 [==============================] - 0s 444us/step - loss: 1.0219 - acc: 0.6615 - val_loss: 1.1345 - val_acc: 0.6111\n",
      "Epoch 36/40\n",
      "322/322 [==============================] - 0s 410us/step - loss: 1.0267 - acc: 0.6646 - val_loss: 1.1229 - val_acc: 0.6389\n",
      "Epoch 37/40\n",
      "322/322 [==============================] - 0s 428us/step - loss: 0.9886 - acc: 0.6739 - val_loss: 1.1256 - val_acc: 0.6111\n",
      "Epoch 38/40\n",
      "322/322 [==============================] - 0s 410us/step - loss: 0.9762 - acc: 0.6957 - val_loss: 1.0823 - val_acc: 0.6944\n",
      "Epoch 39/40\n",
      "322/322 [==============================] - 0s 441us/step - loss: 0.9764 - acc: 0.6894 - val_loss: 1.1477 - val_acc: 0.5833\n",
      "Epoch 40/40\n",
      "322/322 [==============================] - 0s 416us/step - loss: 0.9787 - acc: 0.6770 - val_loss: 1.0687 - val_acc: 0.6944\n"
     ]
    }
   ],
   "source": [
    "history = model.fit(train_X, train_label, batch_size=batch_size,epochs=epochs,verbose=1,validation_data=(valid_X, valid_label))"
   ]
  },
  {
   "cell_type": "code",
   "execution_count": 17,
   "metadata": {},
   "outputs": [
    {
     "data": {
      "image/png": "[encoded data removed]",
      "text/plain": [
       "<Figure size 864x360 with 2 Axes>"
      ]
     },
     "metadata": {
      "needs_background": "light"
     },
     "output_type": "display_data"
    }
   ],
   "source": [
    "def plot_history(history):\n",
    "    acc = history.history['acc']\n",
    "    val_acc = history.history['val_acc']\n",
    "    loss = history.history['loss']\n",
    "    val_loss = history.history['val_loss']\n",
    "    x = range(1, len(acc) + 1)\n",
    "\n",
    "    plt.figure(figsize=(12, 5))\n",
    "    plt.subplot(1, 2, 1)\n",
    "    plt.plot(x, acc, 'b', label='Training acc')\n",
    "    plt.plot(x, val_acc, 'r', label='Validation acc')\n",
    "    plt.title('Training and validation accuracy')\n",
    "    plt.legend()\n",
    "    plt.subplot(1, 2, 2)\n",
    "    plt.plot(x, loss, 'b', label='Training loss')\n",
    "    plt.plot(x, val_loss, 'r', label='Validation loss')\n",
    "    plt.title('Training and validation loss')\n",
    "    plt.legend()\n",
    "plot_history(history)"
   ]
  },
  {
   "cell_type": "markdown",
   "metadata": {},
   "source": [
    "## Predict and save"
   ]
  },
  {
   "cell_type": "code",
   "execution_count": 18,
   "metadata": {},
   "outputs": [],
   "source": [
    "predicted_classes = model.predict(X_test)"
   ]
  },
  {
   "cell_type": "code",
   "execution_count": 19,
   "metadata": {},
   "outputs": [],
   "source": [
    "predicted_classes = np.argmax(np.round(predicted_classes),axis=1)"
   ]
  },
  {
   "cell_type": "code",
   "execution_count": 20,
   "metadata": {},
   "outputs": [
    {
     "data": {
      "text/html": [
       "<div>\n",
       "<style scoped>\n",
       "    .dataframe tbody tr th:only-of-type {\n",
       "        vertical-align: middle;\n",
       "    }\n",
       "\n",
       "    .dataframe tbody tr th {\n",
       "        vertical-align: top;\n",
       "    }\n",
       "\n",
       "    .dataframe thead th {\n",
       "        text-align: right;\n",
       "    }\n",
       "</style>\n",
       "<table border=\"1\" class=\"dataframe\">\n",
       "  <thead>\n",
       "    <tr style=\"text-align: right;\">\n",
       "      <th></th>\n",
       "      <th>thread_label_id</th>\n",
       "    </tr>\n",
       "    <tr>\n",
       "      <th>thread_num</th>\n",
       "      <th></th>\n",
       "    </tr>\n",
       "  </thead>\n",
       "  <tbody>\n",
       "    <tr>\n",
       "      <th>126856</th>\n",
       "      <td>8</td>\n",
       "    </tr>\n",
       "    <tr>\n",
       "      <th>132415</th>\n",
       "      <td>8</td>\n",
       "    </tr>\n",
       "    <tr>\n",
       "      <th>134482</th>\n",
       "      <td>0</td>\n",
       "    </tr>\n",
       "    <tr>\n",
       "      <th>133728</th>\n",
       "      <td>1</td>\n",
       "    </tr>\n",
       "    <tr>\n",
       "      <th>134270</th>\n",
       "      <td>8</td>\n",
       "    </tr>\n",
       "  </tbody>\n",
       "</table>\n",
       "</div>"
      ],
      "text/plain": [
       "            thread_label_id\n",
       "thread_num                 \n",
       "126856                    8\n",
       "132415                    8\n",
       "134482                    0\n",
       "133728                    1\n",
       "134270                    8"
      ]
     },
     "execution_count": 20,
     "metadata": {},
     "output_type": "execute_result"
    }
   ],
   "source": [
    "total=pd.Series(predicted_classes)\n",
    "ans = pd.concat([thread_test[\"thread_num\"],total], axis=1, keys=['thread_num', 'thread_label_id'])\n",
    "ans=ans.set_index(\"thread_num\")\n",
    "ans.head()"
   ]
  },
  {
   "cell_type": "code",
   "execution_count": 23,
   "metadata": {},
   "outputs": [],
   "source": [
    "path=os.path.join(module_path,\"submissions\")\n",
    "ans.to_csv(os.path.join(path,\"sol29.csv\"))"
   ]
  }
 ],
 "metadata": {
  "kernelspec": {
   "display_name": "Python 3",
   "language": "python",
   "name": "python3"
  },
  "language_info": {
   "codemirror_mode": {
    "name": "ipython",
    "version": 3
   },
   "file_extension": ".py",
   "mimetype": "text/x-python",
   "name": "python",
   "nbconvert_exporter": "python",
   "pygments_lexer": "ipython3",
   "version": "3.7.1"
  }
 },
 "nbformat": 4,
 "nbformat_minor": 2
}
