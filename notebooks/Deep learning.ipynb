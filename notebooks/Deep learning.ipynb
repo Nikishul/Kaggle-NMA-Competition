{
 "cells": [
  {
   "cell_type": "markdown",
   "metadata": {},
   "source": [
    "# Spacy vectorization model notebook"
   ]
  },
  {
   "cell_type": "code",
   "execution_count": 1,
   "metadata": {},
   "outputs": [
    {
     "name": "stderr",
     "output_type": "stream",
     "text": [
      "C:\\ProgramData\\Anaconda3\\lib\\site-packages\\gensim\\utils.py:1197: UserWarning: detected Windows; aliasing chunkize to chunkize_serial\n",
      "  warnings.warn(\"detected Windows; aliasing chunkize to chunkize_serial\")\n"
     ]
    }
   ],
   "source": [
    "import logging\n",
    "from gensim.models import word2vec\n",
    "\n",
    "import sys\n",
    "import os\n",
    "        \n",
    "from src import data_prepare\n",
    "from src import feature_extraction\n",
    "\n",
    "import gzip\n",
    "from gensim.models import word2vec\n",
    "\n",
    "from sklearn.metrics import accuracy_score\n",
    "\n",
    "import numpy as np\n",
    "import pandas as pd\n",
    "from bs4 import BeautifulSoup\n",
    "import re\n",
    "\n",
    "from sklearn.ensemble import RandomForestClassifier\n",
    "\n",
    "import warnings\n",
    "warnings.filterwarnings('ignore')\n",
    "\n",
    "from matplotlib import pyplot as plt\n",
    "\n",
    "import spacy\n",
    "from sklearn.model_selection import train_test_split\n",
    "import seaborn as sns\n",
    "from sklearn.metrics import confusion_matrix\n",
    "from sklearn.svm import LinearSVC"
   ]
  },
  {
   "cell_type": "code",
   "execution_count": 2,
   "metadata": {},
   "outputs": [],
   "source": [
    "logging.basicConfig(format='%(asctime)s : %(levelname)s : %(message)s',level=logging.INFO)\n",
    "\n",
    "post, thread=data_prepare.load_train_data()\n",
    "post_test, thread_test=data_prepare.load_test_data()\n",
    "label_map=data_prepare.load_label_map()"
   ]
  },
  {
   "cell_type": "code",
   "execution_count": 3,
   "metadata": {},
   "outputs": [],
   "source": [
    "train_data_to_clean=[]\n",
    "test_data_to_clean=[]\n",
    "\n",
    "train_data_to_clean=data_prepare.get_all_text_data_from_posts(post,thread)\n",
    "test_data_to_clean=data_prepare.get_all_text_data_from_posts(post_test,thread_test)"
   ]
  },
  {
   "cell_type": "markdown",
   "metadata": {},
   "source": [
    "###  I used standard spacy english model, larger models showed no major improvements, only memory consumption"
   ]
  },
  {
   "cell_type": "code",
   "execution_count": 4,
   "metadata": {},
   "outputs": [],
   "source": [
    "nlp = spacy.load('en', disable=['ner', 'parser'])"
   ]
  },
  {
   "cell_type": "code",
   "execution_count": 5,
   "metadata": {},
   "outputs": [],
   "source": [
    "def cleaning(doc):\n",
    "    txt = [token.lemma_ for token in doc if not token.is_stop]\n",
    "    return ' '.join(txt)\n",
    "brief_cleaning = (re.sub(\"[^A-Za-z']+\", ' ', str(row)).lower() for row in train_data_to_clean)\n",
    "brief_cleaning_test = (re.sub(\"[^A-Za-z']+\", ' ', str(row)).lower() for row in test_data_to_clean)"
   ]
  },
  {
   "cell_type": "code",
   "execution_count": null,
   "metadata": {},
   "outputs": [],
   "source": [
    "train_txt = [cleaning(doc) for doc in nlp.pipe(brief_cleaning, batch_size=20, n_threads=-1)]"
   ]
  },
  {
   "cell_type": "code",
   "execution_count": null,
   "metadata": {},
   "outputs": [],
   "source": [
    "test_txt = [cleaning(doc) for doc in nlp.pipe(brief_cleaning_test, batch_size=20, n_threads=-1)]"
   ]
  },
  {
   "cell_type": "code",
   "execution_count": 8,
   "metadata": {},
   "outputs": [
    {
     "name": "stderr",
     "output_type": "stream",
     "text": [
      "2019-02-15 17:10:27,022 : INFO : collecting all words and their counts\n",
      "2019-02-15 17:10:27,024 : INFO : PROGRESS: at sentence #0, processed 0 words and 0 word types\n",
      "2019-02-15 17:10:31,628 : INFO : collected 968684 word types from a corpus of 2670549 words (unigram + bigrams) and 358 sentences\n",
      "2019-02-15 17:10:31,630 : INFO : using 968684 counts as vocab in Phrases<0 vocab, min_count=5, threshold=10.0, max_vocab_size=40000000>\n",
      "2019-02-15 17:10:31,664 : INFO : source_vocab length 968684\n",
      "2019-02-15 17:10:41,069 : INFO : Phraser built with 6709 6709 phrasegrams\n"
     ]
    }
   ],
   "source": [
    "from gensim.models.phrases import Phrases, Phraser\n",
    "sent = [row.split() for row in txt]\n",
    "phrases = Phrases(sent, min_count=5, progress_per=1000)\n",
    "bigram = Phraser(phrases)\n",
    "sentences = bigram[sent]"
   ]
  },
  {
   "cell_type": "code",
   "execution_count": 9,
   "metadata": {},
   "outputs": [
    {
     "data": {
      "text/plain": [
       "50236"
      ]
     },
     "execution_count": 9,
     "metadata": {},
     "output_type": "execute_result"
    }
   ],
   "source": [
    "word_freq = defaultdict(int)\n",
    "for sent in sentences:\n",
    "    for i in sent:\n",
    "        word_freq[i] += 1\n",
    "len(word_freq)"
   ]
  },
  {
   "cell_type": "code",
   "execution_count": 10,
   "metadata": {},
   "outputs": [
    {
     "data": {
      "text/plain": [
       "['be',\n",
       " 'not',\n",
       " 'quote_section',\n",
       " 'scum',\n",
       " 'vote',\n",
       " 'game',\n",
       " 'think',\n",
       " 'town',\n",
       " 'lynch',\n",
       " 'post']"
      ]
     },
     "execution_count": 10,
     "metadata": {},
     "output_type": "execute_result"
    }
   ],
   "source": [
    "sorted(word_freq, key=word_freq.get, reverse=True)[:12]"
   ]
  },
  {
   "cell_type": "markdown",
   "metadata": {},
   "source": [
    "## Feed the vocabulary of the dataset to genism just for fun"
   ]
  },
  {
   "cell_type": "code",
   "execution_count": 12,
   "metadata": {},
   "outputs": [
    {
     "name": "stderr",
     "output_type": "stream",
     "text": [
      "2019-02-15 17:12:58,012 : INFO : collecting all words and their counts\n",
      "2019-02-15 17:12:58,226 : INFO : PROGRESS: at sentence #0, processed 0 words, keeping 0 word types\n",
      "2019-02-15 17:13:04,664 : INFO : collected 50236 word types from a corpus of 2453579 raw words and 358 sentences\n",
      "2019-02-15 17:13:04,666 : INFO : Loading a fresh vocabulary\n",
      "2019-02-15 17:13:04,707 : INFO : min_count=10 retains 11705 unique words (23% of original 50236, drops 38531)\n",
      "2019-02-15 17:13:04,709 : INFO : min_count=10 leaves 2362430 word corpus (96% of original 2453579, drops 91149)\n",
      "2019-02-15 17:13:04,758 : INFO : deleting the raw counts dictionary of 50236 items\n",
      "2019-02-15 17:13:04,762 : INFO : sample=6e-05 downsamples 909 most-common words\n",
      "2019-02-15 17:13:04,763 : INFO : downsampling leaves estimated 1057625 word corpus (44.8% of prior 2362430)\n",
      "2019-02-15 17:13:04,800 : INFO : estimated required memory for 11705 words and 300 dimensions: 33944500 bytes\n",
      "2019-02-15 17:13:04,801 : INFO : resetting layer weights\n"
     ]
    }
   ],
   "source": [
    "import multiprocessing\n",
    "from gensim.models import Word2Vec\n",
    "cores = multiprocessing.cpu_count()\n",
    "\n",
    "\n",
    "w2v_model = Word2Vec(min_count=10, window=2,size=300,\n",
    "                     sample=6e-5, alpha=0.03, min_alpha=0.0007,\n",
    "                     negative=20,workers=cores-1)\n",
    "\n",
    "w2v_model.build_vocab(sentences, progress_per=100)"
   ]
  },
  {
   "cell_type": "code",
   "execution_count": 13,
   "metadata": {},
   "outputs": [
    {
     "name": "stderr",
     "output_type": "stream",
     "text": [
      "2019-02-15 17:13:45,115 : INFO : training model with 3 workers on 11705 vocabulary and 300 features, using sg=0 hs=0 sample=6e-05 negative=20 window=2\n",
      "2019-02-15 17:13:46,325 : INFO : EPOCH 1 - PROGRESS: at 4.75% examples, 75652 words/s, in_qsize 0, out_qsize 0\n",
      "2019-02-15 17:13:47,377 : INFO : EPOCH 1 - PROGRESS: at 15.08% examples, 93243 words/s, in_qsize 0, out_qsize 0\n",
      "2019-02-15 17:13:48,418 : INFO : EPOCH 1 - PROGRESS: at 25.42% examples, 102449 words/s, in_qsize 2, out_qsize 0\n",
      "2019-02-15 17:13:49,466 : INFO : EPOCH 1 - PROGRESS: at 40.50% examples, 111041 words/s, in_qsize 2, out_qsize 0\n",
      "2019-02-15 17:13:50,496 : INFO : EPOCH 1 - PROGRESS: at 53.35% examples, 114031 words/s, in_qsize 0, out_qsize 0\n",
      "2019-02-15 17:13:51,512 : INFO : EPOCH 1 - PROGRESS: at 70.95% examples, 116142 words/s, in_qsize 1, out_qsize 0\n",
      "2019-02-15 17:13:52,536 : INFO : EPOCH 1 - PROGRESS: at 93.58% examples, 118466 words/s, in_qsize 0, out_qsize 2\n",
      "2019-02-15 17:13:52,928 : INFO : worker thread finished; awaiting finish of 2 more threads\n",
      "2019-02-15 17:13:52,944 : INFO : worker thread finished; awaiting finish of 1 more threads\n",
      "2019-02-15 17:13:52,958 : INFO : worker thread finished; awaiting finish of 0 more threads\n",
      "2019-02-15 17:13:52,960 : INFO : EPOCH - 1 : training on 2453579 raw words (930103 effective words) took 7.7s, 121575 effective words/s\n",
      "2019-02-15 17:13:54,023 : INFO : EPOCH 2 - PROGRESS: at 5.03% examples, 80663 words/s, in_qsize 0, out_qsize 0\n",
      "2019-02-15 17:13:55,026 : INFO : EPOCH 2 - PROGRESS: at 16.20% examples, 95272 words/s, in_qsize 0, out_qsize 1\n",
      "2019-02-15 17:13:56,058 : INFO : EPOCH 2 - PROGRESS: at 25.42% examples, 103071 words/s, in_qsize 1, out_qsize 0\n",
      "2019-02-15 17:13:57,090 : INFO : EPOCH 2 - PROGRESS: at 39.66% examples, 110440 words/s, in_qsize 0, out_qsize 0\n",
      "2019-02-15 17:13:58,099 : INFO : EPOCH 2 - PROGRESS: at 53.07% examples, 114072 words/s, in_qsize 0, out_qsize 0\n",
      "2019-02-15 17:13:59,141 : INFO : EPOCH 2 - PROGRESS: at 72.07% examples, 115345 words/s, in_qsize 0, out_qsize 0\n",
      "2019-02-15 17:14:00,147 : INFO : EPOCH 2 - PROGRESS: at 92.74% examples, 118694 words/s, in_qsize 0, out_qsize 0\n",
      "2019-02-15 17:14:00,569 : INFO : worker thread finished; awaiting finish of 2 more threads\n",
      "2019-02-15 17:14:00,575 : INFO : worker thread finished; awaiting finish of 1 more threads\n",
      "2019-02-15 17:14:00,600 : INFO : worker thread finished; awaiting finish of 0 more threads\n",
      "2019-02-15 17:14:00,602 : INFO : EPOCH - 2 : training on 2453579 raw words (930168 effective words) took 7.6s, 121854 effective words/s\n",
      "2019-02-15 17:14:01,665 : INFO : EPOCH 3 - PROGRESS: at 5.03% examples, 80738 words/s, in_qsize 0, out_qsize 0\n",
      "2019-02-15 17:14:02,667 : INFO : EPOCH 3 - PROGRESS: at 16.20% examples, 95433 words/s, in_qsize 0, out_qsize 1\n",
      "2019-02-15 17:14:03,675 : INFO : EPOCH 3 - PROGRESS: at 25.70% examples, 107115 words/s, in_qsize 0, out_qsize 0\n",
      "2019-02-15 17:14:04,730 : INFO : EPOCH 3 - PROGRESS: at 41.62% examples, 114052 words/s, in_qsize 0, out_qsize 0\n",
      "2019-02-15 17:14:05,732 : INFO : EPOCH 3 - PROGRESS: at 55.87% examples, 116259 words/s, in_qsize 0, out_qsize 0\n",
      "2019-02-15 17:14:06,746 : INFO : EPOCH 3 - PROGRESS: at 73.74% examples, 118885 words/s, in_qsize 1, out_qsize 1\n",
      "2019-02-15 17:14:07,754 : INFO : EPOCH 3 - PROGRESS: at 94.69% examples, 120420 words/s, in_qsize 1, out_qsize 0\n",
      "2019-02-15 17:14:08,106 : INFO : worker thread finished; awaiting finish of 2 more threads\n",
      "2019-02-15 17:14:08,121 : INFO : worker thread finished; awaiting finish of 1 more threads\n",
      "2019-02-15 17:14:08,137 : INFO : worker thread finished; awaiting finish of 0 more threads\n",
      "2019-02-15 17:14:08,139 : INFO : EPOCH - 3 : training on 2453579 raw words (930061 effective words) took 7.5s, 123557 effective words/s\n",
      "2019-02-15 17:14:09,213 : INFO : EPOCH 4 - PROGRESS: at 5.03% examples, 79869 words/s, in_qsize 0, out_qsize 0\n",
      "2019-02-15 17:14:10,216 : INFO : EPOCH 4 - PROGRESS: at 15.36% examples, 95505 words/s, in_qsize 0, out_qsize 0\n",
      "2019-02-15 17:14:11,224 : INFO : EPOCH 4 - PROGRESS: at 25.70% examples, 106510 words/s, in_qsize 1, out_qsize 0\n",
      "2019-02-15 17:14:12,230 : INFO : EPOCH 4 - PROGRESS: at 40.78% examples, 113983 words/s, in_qsize 0, out_qsize 0\n",
      "2019-02-15 17:14:13,245 : INFO : EPOCH 4 - PROGRESS: at 53.07% examples, 114704 words/s, in_qsize 0, out_qsize 0\n",
      "2019-02-15 17:14:14,286 : INFO : EPOCH 4 - PROGRESS: at 72.07% examples, 115908 words/s, in_qsize 0, out_qsize 0\n",
      "2019-02-15 17:14:15,333 : INFO : EPOCH 4 - PROGRESS: at 91.34% examples, 116649 words/s, in_qsize 4, out_qsize 1\n",
      "2019-02-15 17:14:15,755 : INFO : worker thread finished; awaiting finish of 2 more threads\n",
      "2019-02-15 17:14:15,759 : INFO : worker thread finished; awaiting finish of 1 more threads\n",
      "2019-02-15 17:14:15,778 : INFO : worker thread finished; awaiting finish of 0 more threads\n",
      "2019-02-15 17:14:15,780 : INFO : EPOCH - 4 : training on 2453579 raw words (929398 effective words) took 7.6s, 121792 effective words/s\n",
      "2019-02-15 17:14:16,875 : INFO : EPOCH 5 - PROGRESS: at 5.03% examples, 78344 words/s, in_qsize 0, out_qsize 0\n",
      "2019-02-15 17:14:17,918 : INFO : EPOCH 5 - PROGRESS: at 16.20% examples, 91960 words/s, in_qsize 0, out_qsize 2\n",
      "2019-02-15 17:14:18,931 : INFO : EPOCH 5 - PROGRESS: at 25.70% examples, 104451 words/s, in_qsize 1, out_qsize 0\n",
      "2019-02-15 17:14:19,947 : INFO : EPOCH 5 - PROGRESS: at 40.50% examples, 110966 words/s, in_qsize 0, out_qsize 0\n",
      "2019-02-15 17:14:20,952 : INFO : EPOCH 5 - PROGRESS: at 52.23% examples, 112700 words/s, in_qsize 0, out_qsize 0\n",
      "2019-02-15 17:14:21,979 : INFO : EPOCH 5 - PROGRESS: at 70.67% examples, 114889 words/s, in_qsize 0, out_qsize 0\n",
      "2019-02-15 17:14:22,985 : INFO : EPOCH 5 - PROGRESS: at 92.74% examples, 118408 words/s, in_qsize 0, out_qsize 0\n",
      "2019-02-15 17:14:23,528 : INFO : worker thread finished; awaiting finish of 2 more threads\n",
      "2019-02-15 17:14:23,543 : INFO : worker thread finished; awaiting finish of 1 more threads\n",
      "2019-02-15 17:14:23,558 : INFO : worker thread finished; awaiting finish of 0 more threads\n",
      "2019-02-15 17:14:23,560 : INFO : EPOCH - 5 : training on 2453579 raw words (930251 effective words) took 7.8s, 119701 effective words/s\n",
      "2019-02-15 17:14:24,572 : INFO : EPOCH 6 - PROGRESS: at 3.91% examples, 73061 words/s, in_qsize 0, out_qsize 0\n",
      "2019-02-15 17:14:25,578 : INFO : EPOCH 6 - PROGRESS: at 13.41% examples, 90119 words/s, in_qsize 0, out_qsize 0\n",
      "2019-02-15 17:14:26,587 : INFO : EPOCH 6 - PROGRESS: at 24.02% examples, 98104 words/s, in_qsize 0, out_qsize 1\n",
      "2019-02-15 17:14:27,631 : INFO : EPOCH 6 - PROGRESS: at 36.31% examples, 101172 words/s, in_qsize 0, out_qsize 0\n",
      "2019-02-15 17:14:28,653 : INFO : EPOCH 6 - PROGRESS: at 50.00% examples, 106407 words/s, in_qsize 0, out_qsize 0\n",
      "2019-02-15 17:14:29,698 : INFO : EPOCH 6 - PROGRESS: at 63.41% examples, 107342 words/s, in_qsize 1, out_qsize 0\n",
      "2019-02-15 17:14:30,733 : INFO : EPOCH 6 - PROGRESS: at 81.01% examples, 108329 words/s, in_qsize 0, out_qsize 1\n",
      "2019-02-15 17:14:31,753 : INFO : EPOCH 6 - PROGRESS: at 98.04% examples, 110225 words/s, in_qsize 0, out_qsize 0\n",
      "2019-02-15 17:14:31,917 : INFO : worker thread finished; awaiting finish of 2 more threads\n",
      "2019-02-15 17:14:31,931 : INFO : worker thread finished; awaiting finish of 1 more threads\n",
      "2019-02-15 17:14:31,950 : INFO : worker thread finished; awaiting finish of 0 more threads\n",
      "2019-02-15 17:14:31,952 : INFO : EPOCH - 6 : training on 2453579 raw words (930363 effective words) took 8.4s, 110973 effective words/s\n",
      "2019-02-15 17:14:32,970 : INFO : EPOCH 7 - PROGRESS: at 3.35% examples, 53504 words/s, in_qsize 0, out_qsize 1\n",
      "2019-02-15 17:14:33,992 : INFO : EPOCH 7 - PROGRESS: at 12.57% examples, 80260 words/s, in_qsize 1, out_qsize 0\n",
      "2019-02-15 17:14:35,019 : INFO : EPOCH 7 - PROGRESS: at 23.18% examples, 90436 words/s, in_qsize 0, out_qsize 0\n",
      "2019-02-15 17:14:36,020 : INFO : EPOCH 7 - PROGRESS: at 34.08% examples, 98234 words/s, in_qsize 0, out_qsize 0\n",
      "2019-02-15 17:14:37,025 : INFO : EPOCH 7 - PROGRESS: at 46.93% examples, 102546 words/s, in_qsize 1, out_qsize 1\n",
      "2019-02-15 17:14:38,045 : INFO : EPOCH 7 - PROGRESS: at 60.34% examples, 103213 words/s, in_qsize 1, out_qsize 0\n",
      "2019-02-15 17:14:39,045 : INFO : EPOCH 7 - PROGRESS: at 74.30% examples, 104113 words/s, in_qsize 0, out_qsize 1\n",
      "2019-02-15 17:14:40,069 : INFO : EPOCH 7 - PROGRESS: at 95.25% examples, 106771 words/s, in_qsize 0, out_qsize 0\n",
      "2019-02-15 17:14:40,417 : INFO : worker thread finished; awaiting finish of 2 more threads\n",
      "2019-02-15 17:14:40,420 : INFO : worker thread finished; awaiting finish of 1 more threads\n",
      "2019-02-15 17:14:40,445 : INFO : worker thread finished; awaiting finish of 0 more threads\n",
      "2019-02-15 17:14:40,447 : INFO : EPOCH - 7 : training on 2453579 raw words (930221 effective words) took 8.5s, 109625 effective words/s\n",
      "2019-02-15 17:14:41,554 : INFO : EPOCH 8 - PROGRESS: at 5.03% examples, 77455 words/s, in_qsize 0, out_qsize 0\n",
      "2019-02-15 17:14:42,589 : INFO : EPOCH 8 - PROGRESS: at 16.20% examples, 91765 words/s, in_qsize 0, out_qsize 1\n",
      "2019-02-15 17:14:43,670 : INFO : EPOCH 8 - PROGRESS: at 25.42% examples, 99046 words/s, in_qsize 1, out_qsize 0\n",
      "2019-02-15 17:14:44,714 : INFO : EPOCH 8 - PROGRESS: at 39.39% examples, 105450 words/s, in_qsize 1, out_qsize 0\n",
      "2019-02-15 17:14:45,779 : INFO : EPOCH 8 - PROGRESS: at 51.40% examples, 106711 words/s, in_qsize 0, out_qsize 0\n",
      "2019-02-15 17:14:46,868 : INFO : EPOCH 8 - PROGRESS: at 67.88% examples, 108250 words/s, in_qsize 0, out_qsize 0\n",
      "2019-02-15 17:14:47,877 : INFO : EPOCH 8 - PROGRESS: at 87.99% examples, 110028 words/s, in_qsize 0, out_qsize 0\n",
      "2019-02-15 17:14:48,819 : INFO : worker thread finished; awaiting finish of 2 more threads\n",
      "2019-02-15 17:14:48,864 : INFO : worker thread finished; awaiting finish of 1 more threads\n",
      "2019-02-15 17:14:48,867 : INFO : worker thread finished; awaiting finish of 0 more threads\n",
      "2019-02-15 17:14:48,869 : INFO : EPOCH - 8 : training on 2453579 raw words (929142 effective words) took 8.4s, 110438 effective words/s\n",
      "2019-02-15 17:14:49,920 : INFO : EPOCH 9 - PROGRESS: at 3.07% examples, 51789 words/s, in_qsize 0, out_qsize 0\n",
      "2019-02-15 17:14:50,956 : INFO : EPOCH 9 - PROGRESS: at 10.61% examples, 70276 words/s, in_qsize 0, out_qsize 1\n",
      "2019-02-15 17:14:51,970 : INFO : EPOCH 9 - PROGRESS: at 20.95% examples, 84854 words/s, in_qsize 0, out_qsize 1\n",
      "2019-02-15 17:14:52,993 : INFO : EPOCH 9 - PROGRESS: at 32.96% examples, 92019 words/s, in_qsize 0, out_qsize 1\n",
      "2019-02-15 17:14:53,994 : INFO : EPOCH 9 - PROGRESS: at 46.65% examples, 100157 words/s, in_qsize 0, out_qsize 0\n",
      "2019-02-15 17:14:55,099 : INFO : EPOCH 9 - PROGRESS: at 60.89% examples, 102711 words/s, in_qsize 0, out_qsize 0\n",
      "2019-02-15 17:14:56,120 : INFO : EPOCH 9 - PROGRESS: at 79.89% examples, 106927 words/s, in_qsize 1, out_qsize 0\n",
      "2019-02-15 17:14:57,108 : INFO : EPOCH 9 - PROGRESS: at 98.88% examples, 110142 words/s, in_qsize 1, out_qsize 0\n",
      "2019-02-15 17:14:57,215 : INFO : worker thread finished; awaiting finish of 2 more threads\n",
      "2019-02-15 17:14:57,220 : INFO : worker thread finished; awaiting finish of 1 more threads\n",
      "2019-02-15 17:14:57,242 : INFO : worker thread finished; awaiting finish of 0 more threads\n",
      "2019-02-15 17:14:57,246 : INFO : EPOCH - 9 : training on 2453579 raw words (930394 effective words) took 8.4s, 111235 effective words/s\n",
      "2019-02-15 17:14:58,268 : INFO : EPOCH 10 - PROGRESS: at 4.75% examples, 75875 words/s, in_qsize 0, out_qsize 0\n",
      "2019-02-15 17:14:59,287 : INFO : EPOCH 10 - PROGRESS: at 13.69% examples, 92586 words/s, in_qsize 0, out_qsize 0\n",
      "2019-02-15 17:15:00,306 : INFO : EPOCH 10 - PROGRESS: at 24.58% examples, 100583 words/s, in_qsize 0, out_qsize 0\n",
      "2019-02-15 17:15:01,314 : INFO : EPOCH 10 - PROGRESS: at 38.27% examples, 107620 words/s, in_qsize 1, out_qsize 0\n",
      "2019-02-15 17:15:02,320 : INFO : EPOCH 10 - PROGRESS: at 50.56% examples, 107480 words/s, in_qsize 0, out_qsize 0\n",
      "2019-02-15 17:15:03,326 : INFO : EPOCH 10 - PROGRESS: at 66.20% examples, 111462 words/s, in_qsize 1, out_qsize 0\n",
      "2019-02-15 17:15:04,345 : INFO : EPOCH 10 - PROGRESS: at 89.39% examples, 115974 words/s, in_qsize 0, out_qsize 0\n",
      "2019-02-15 17:15:05,074 : INFO : worker thread finished; awaiting finish of 2 more threads\n",
      "2019-02-15 17:15:05,089 : INFO : worker thread finished; awaiting finish of 1 more threads\n",
      "2019-02-15 17:15:05,106 : INFO : worker thread finished; awaiting finish of 0 more threads\n",
      "2019-02-15 17:15:05,109 : INFO : EPOCH - 10 : training on 2453579 raw words (929773 effective words) took 7.9s, 118388 effective words/s\n",
      "2019-02-15 17:15:06,180 : INFO : EPOCH 11 - PROGRESS: at 5.03% examples, 80067 words/s, in_qsize 0, out_qsize 0\n",
      "2019-02-15 17:15:07,213 : INFO : EPOCH 11 - PROGRESS: at 16.20% examples, 93450 words/s, in_qsize 0, out_qsize 1\n",
      "2019-02-15 17:15:08,224 : INFO : EPOCH 11 - PROGRESS: at 25.70% examples, 105784 words/s, in_qsize 1, out_qsize 0\n",
      "2019-02-15 17:15:09,250 : INFO : EPOCH 11 - PROGRESS: at 40.50% examples, 111793 words/s, in_qsize 0, out_qsize 1\n",
      "2019-02-15 17:15:10,265 : INFO : EPOCH 11 - PROGRESS: at 51.40% examples, 110560 words/s, in_qsize 0, out_qsize 0\n",
      "2019-02-15 17:15:11,313 : INFO : EPOCH 11 - PROGRESS: at 67.88% examples, 112256 words/s, in_qsize 0, out_qsize 1\n",
      "2019-02-15 17:15:12,319 : INFO : EPOCH 11 - PROGRESS: at 89.94% examples, 115029 words/s, in_qsize 0, out_qsize 0\n",
      "2019-02-15 17:15:13,030 : INFO : worker thread finished; awaiting finish of 2 more threads\n",
      "2019-02-15 17:15:13,048 : INFO : worker thread finished; awaiting finish of 1 more threads\n",
      "2019-02-15 17:15:13,060 : INFO : worker thread finished; awaiting finish of 0 more threads\n",
      "2019-02-15 17:15:13,064 : INFO : EPOCH - 11 : training on 2453579 raw words (930371 effective words) took 7.9s, 117106 effective words/s\n",
      "2019-02-15 17:15:14,108 : INFO : EPOCH 12 - PROGRESS: at 3.91% examples, 71023 words/s, in_qsize 0, out_qsize 0\n",
      "2019-02-15 17:15:15,113 : INFO : EPOCH 12 - PROGRESS: at 13.41% examples, 88919 words/s, in_qsize 0, out_qsize 0\n",
      "2019-02-15 17:15:16,173 : INFO : EPOCH 12 - PROGRESS: at 24.02% examples, 95620 words/s, in_qsize 0, out_qsize 0\n",
      "2019-02-15 17:15:17,178 : INFO : EPOCH 12 - PROGRESS: at 35.47% examples, 101783 words/s, in_qsize 0, out_qsize 1\n",
      "2019-02-15 17:15:18,274 : INFO : EPOCH 12 - PROGRESS: at 49.16% examples, 101987 words/s, in_qsize 6, out_qsize 0\n",
      "2019-02-15 17:15:19,291 : INFO : EPOCH 12 - PROGRESS: at 64.25% examples, 105939 words/s, in_qsize 5, out_qsize 0\n",
      "2019-02-15 17:15:20,328 : INFO : EPOCH 12 - PROGRESS: at 86.31% examples, 111403 words/s, in_qsize 4, out_qsize 1\n",
      "2019-02-15 17:15:21,059 : INFO : worker thread finished; awaiting finish of 2 more threads\n",
      "2019-02-15 17:15:21,059 : INFO : worker thread finished; awaiting finish of 1 more threads\n",
      "2019-02-15 17:15:21,069 : INFO : worker thread finished; awaiting finish of 0 more threads\n",
      "2019-02-15 17:15:21,074 : INFO : EPOCH - 12 : training on 2453579 raw words (929793 effective words) took 8.0s, 116208 effective words/s\n",
      "2019-02-15 17:15:22,212 : INFO : EPOCH 13 - PROGRESS: at 3.35% examples, 56030 words/s, in_qsize 2, out_qsize 0\n",
      "2019-02-15 17:15:23,213 : INFO : EPOCH 13 - PROGRESS: at 15.36% examples, 93013 words/s, in_qsize 1, out_qsize 0\n",
      "2019-02-15 17:15:24,222 : INFO : EPOCH 13 - PROGRESS: at 25.42% examples, 101638 words/s, in_qsize 2, out_qsize 0\n",
      "2019-02-15 17:15:25,251 : INFO : EPOCH 13 - PROGRESS: at 40.50% examples, 110835 words/s, in_qsize 0, out_qsize 0\n",
      "2019-02-15 17:15:26,254 : INFO : EPOCH 13 - PROGRESS: at 52.23% examples, 112658 words/s, in_qsize 0, out_qsize 0\n",
      "2019-02-15 17:15:27,309 : INFO : EPOCH 13 - PROGRESS: at 70.67% examples, 114324 words/s, in_qsize 0, out_qsize 0\n",
      "2019-02-15 17:15:28,379 : INFO : EPOCH 13 - PROGRESS: at 90.22% examples, 114401 words/s, in_qsize 6, out_qsize 0\n",
      "2019-02-15 17:15:28,886 : INFO : worker thread finished; awaiting finish of 2 more threads\n",
      "2019-02-15 17:15:28,896 : INFO : worker thread finished; awaiting finish of 1 more threads\n",
      "2019-02-15 17:15:28,902 : INFO : worker thread finished; awaiting finish of 0 more threads\n",
      "2019-02-15 17:15:28,904 : INFO : EPOCH - 13 : training on 2453579 raw words (930070 effective words) took 7.8s, 119016 effective words/s\n",
      "2019-02-15 17:15:29,964 : INFO : EPOCH 14 - PROGRESS: at 4.75% examples, 73071 words/s, in_qsize 0, out_qsize 0\n",
      "2019-02-15 17:15:31,050 : INFO : EPOCH 14 - PROGRESS: at 15.08% examples, 90155 words/s, in_qsize 1, out_qsize 0\n"
     ]
    },
    {
     "name": "stderr",
     "output_type": "stream",
     "text": [
      "2019-02-15 17:15:32,126 : INFO : EPOCH 14 - PROGRESS: at 24.30% examples, 92520 words/s, in_qsize 2, out_qsize 1\n",
      "2019-02-15 17:15:33,175 : INFO : EPOCH 14 - PROGRESS: at 37.99% examples, 102348 words/s, in_qsize 4, out_qsize 1\n",
      "2019-02-15 17:15:34,235 : INFO : EPOCH 14 - PROGRESS: at 50.28% examples, 102235 words/s, in_qsize 5, out_qsize 0\n",
      "2019-02-15 17:15:35,272 : INFO : EPOCH 14 - PROGRESS: at 65.92% examples, 105226 words/s, in_qsize 6, out_qsize 0\n",
      "2019-02-15 17:15:36,289 : INFO : EPOCH 14 - PROGRESS: at 89.39% examples, 111556 words/s, in_qsize 5, out_qsize 0\n",
      "2019-02-15 17:15:36,937 : INFO : worker thread finished; awaiting finish of 2 more threads\n",
      "2019-02-15 17:15:36,942 : INFO : worker thread finished; awaiting finish of 1 more threads\n",
      "2019-02-15 17:15:36,947 : INFO : worker thread finished; awaiting finish of 0 more threads\n",
      "2019-02-15 17:15:36,947 : INFO : EPOCH - 14 : training on 2453579 raw words (930239 effective words) took 8.0s, 115741 effective words/s\n",
      "2019-02-15 17:15:37,964 : INFO : EPOCH 15 - PROGRESS: at 2.51% examples, 44154 words/s, in_qsize 5, out_qsize 0\n",
      "2019-02-15 17:15:39,035 : INFO : EPOCH 15 - PROGRESS: at 12.29% examples, 82981 words/s, in_qsize 5, out_qsize 0\n",
      "2019-02-15 17:15:40,041 : INFO : EPOCH 15 - PROGRESS: at 23.74% examples, 91053 words/s, in_qsize 5, out_qsize 0\n",
      "2019-02-15 17:15:41,072 : INFO : EPOCH 15 - PROGRESS: at 38.27% examples, 106027 words/s, in_qsize 2, out_qsize 2\n",
      "2019-02-15 17:15:42,118 : INFO : EPOCH 15 - PROGRESS: at 50.28% examples, 106623 words/s, in_qsize 6, out_qsize 0\n",
      "2019-02-15 17:15:43,195 : INFO : EPOCH 15 - PROGRESS: at 67.32% examples, 108903 words/s, in_qsize 5, out_qsize 0\n",
      "2019-02-15 17:15:44,201 : INFO : EPOCH 15 - PROGRESS: at 89.39% examples, 113469 words/s, in_qsize 3, out_qsize 2\n",
      "2019-02-15 17:15:44,800 : INFO : worker thread finished; awaiting finish of 2 more threads\n",
      "2019-02-15 17:15:44,810 : INFO : worker thread finished; awaiting finish of 1 more threads\n",
      "2019-02-15 17:15:44,821 : INFO : worker thread finished; awaiting finish of 0 more threads\n",
      "2019-02-15 17:15:44,821 : INFO : EPOCH - 15 : training on 2453579 raw words (929494 effective words) took 7.9s, 118126 effective words/s\n",
      "2019-02-15 17:15:44,821 : INFO : training on a 36803685 raw words (13949841 effective words) took 119.7s, 116530 effective words/s\n"
     ]
    },
    {
     "data": {
      "text/plain": [
       "(13949841, 36803685)"
      ]
     },
     "execution_count": 13,
     "metadata": {},
     "output_type": "execute_result"
    }
   ],
   "source": [
    "w2v_model.train(sentences, total_examples=w2v_model.corpus_count, epochs=15, report_delay=1)"
   ]
  },
  {
   "cell_type": "code",
   "execution_count": 14,
   "metadata": {},
   "outputs": [
    {
     "name": "stderr",
     "output_type": "stream",
     "text": [
      "2019-02-15 17:16:15,674 : INFO : precomputing L2-norms of word weight vectors\n"
     ]
    }
   ],
   "source": [
    "w2v_model.init_sims(replace=True)"
   ]
  },
  {
   "cell_type": "code",
   "execution_count": 15,
   "metadata": {},
   "outputs": [
    {
     "data": {
      "text/plain": [
       "[('lynched', 0.7282142639160156),\n",
       " ('nolynch', 0.7224632501602173),\n",
       " ('mislynch_lose', 0.7174205780029297),\n",
       " ('flip_coin', 0.7150850296020508),\n",
       " ('save_ass', 0.6951632499694824),\n",
       " ('nl', 0.6912053227424622),\n",
       " ('liability', 0.6900382041931152),\n",
       " ('mislynch', 0.6875871419906616),\n",
       " ('break_tie', 0.6855727434158325),\n",
       " ('untie', 0.6846047043800354)]"
      ]
     },
     "execution_count": 15,
     "metadata": {},
     "output_type": "execute_result"
    }
   ],
   "source": [
    "w2v_model.wv.most_similar(positive=[\"lynch\"])"
   ]
  },
  {
   "cell_type": "code",
   "execution_count": 16,
   "metadata": {},
   "outputs": [
    {
     "data": {
      "text/plain": [
       "[('doctor_protection', 0.6068865060806274),\n",
       " ('protector', 0.5865193009376526),\n",
       " ('expose', 0.5542176961898804),\n",
       " ('protect', 0.5540183186531067),\n",
       " ('protectee', 0.5504580736160278),\n",
       " ('die_tonight', 0.549311637878418)]"
      ]
     },
     "execution_count": 16,
     "metadata": {},
     "output_type": "execute_result"
    }
   ],
   "source": [
    "w2v_model.wv.most_similar(positive=[\"town\", \"doctor\"], negative=[\"mafia\"], topn=6)"
   ]
  },
  {
   "cell_type": "code",
   "execution_count": 17,
   "metadata": {},
   "outputs": [
    {
     "data": {
      "text/plain": [
       "'paper'"
      ]
     },
     "execution_count": 17,
     "metadata": {},
     "output_type": "execute_result"
    }
   ],
   "source": [
    "w2v_model.wv.doesnt_match(['mafia', 'town', 'lynch','paper'])"
   ]
  },
  {
   "cell_type": "code",
   "execution_count": 25,
   "metadata": {},
   "outputs": [
    {
     "data": {
      "text/plain": [
       "0.5785817095297348"
      ]
     },
     "execution_count": 25,
     "metadata": {},
     "output_type": "execute_result"
    }
   ],
   "source": [
    "w2v_model.wv.similarity(\"vote\", 'lynch')"
   ]
  },
  {
   "cell_type": "markdown",
   "metadata": {},
   "source": [
    "## Finally vectorizing with spacy"
   ]
  },
  {
   "cell_type": "code",
   "execution_count": 8,
   "metadata": {},
   "outputs": [],
   "source": [
    "train_data_features=[nlp(item).vector for item in train_txt]"
   ]
  },
  {
   "cell_type": "code",
   "execution_count": 12,
   "metadata": {},
   "outputs": [],
   "source": [
    "test_data_features=[nlp(item).vector for item in test_txt]"
   ]
  },
  {
   "cell_type": "code",
   "execution_count": 13,
   "metadata": {},
   "outputs": [],
   "source": [
    "train_data_features=np.array(train_data_features)\n",
    "test_data_features=np.array(test_data_features)"
   ]
  },
  {
   "cell_type": "code",
   "execution_count": 17,
   "metadata": {},
   "outputs": [],
   "source": [
    "train_data_features=feature_extraction.get_features(post, thread, train_data_features)\n",
    "test_data_features=feature_extraction.get_features(post_test, thread_test, test_data_features)"
   ]
  },
  {
   "cell_type": "code",
   "execution_count": 18,
   "metadata": {},
   "outputs": [],
   "source": [
    "X_test=test_data_features\n",
    "X_train=train_data_features\n",
    "y_train=thread[\"thread_label_id\"]\n",
    "#X_train, X_val, y_train, y_val = train_test_split(train_data_features, thread[\"thread_label_id\"], test_size=0.15, random_state=96)"
   ]
  },
  {
   "cell_type": "code",
   "execution_count": 115,
   "metadata": {},
   "outputs": [
    {
     "name": "stdout",
     "output_type": "stream",
     "text": [
      "Accuracy on val dataset: 66.67\n",
      "Accuracy on train dataset: 78.29\n",
      "Accuracy on train full: 76.54\n"
     ]
    }
   ],
   "source": [
    "model = LinearSVC()\n",
    "model.fit(X_train, y_train)\n",
    "y_pred = model.predict(X_val)\n",
    "tr_pred=model.predict(X_train)\n",
    "y_full=model.predict(train_data_features)\n",
    "\n",
    "\n",
    "print(\"Accuracy on val dataset: {:.2f}\".format((accuracy_score(y_pred, y_val))*100))\n",
    "print(\"Accuracy on train dataset: {:.2f}\".format((accuracy_score(tr_pred, y_train))*100))\n",
    "print(\"Accuracy on train full: {:.2f}\".format((accuracy_score(y_full, thread[\"thread_label_id\"]))*100))"
   ]
  },
  {
   "cell_type": "code",
   "execution_count": 116,
   "metadata": {},
   "outputs": [
    {
     "data": {
      "image/png": "[encoded data removed]",
      "text/plain": [
       "<Figure size 936x936 with 2 Axes>"
      ]
     },
     "metadata": {
      "needs_background": "light"
     },
     "output_type": "display_data"
    }
   ],
   "source": [
    "conf_mat = confusion_matrix(y_val, y_pred,labels=label_map[\"type_id\"].values)\n",
    "fig, ax = plt.subplots(figsize=(13,13))\n",
    "sns.heatmap(conf_mat, annot=True, fmt='d', xticklabels=label_map.index, yticklabels=label_map.index)\n",
    "plt.ylabel('Actual')\n",
    "plt.xlabel('Predicted')\n",
    "plt.show()"
   ]
  },
  {
   "cell_type": "code",
   "execution_count": 124,
   "metadata": {},
   "outputs": [
    {
     "name": "stdout",
     "output_type": "stream",
     "text": [
      "Accuracy on optimized: 77.93\n"
     ]
    }
   ],
   "source": [
    "new_full=opt(thread, y_full)\n",
    "\n",
    "print(\"Accuracy on optimized: {:.2f}\".format((accuracy_score(new_full, thread[\"thread_label_id\"]))*100))"
   ]
  },
  {
   "cell_type": "code",
   "execution_count": 121,
   "metadata": {},
   "outputs": [
    {
     "data": {
      "image/png": "[encoded data removed]",
      "text/plain": [
       "<Figure size 936x936 with 2 Axes>"
      ]
     },
     "metadata": {
      "needs_background": "light"
     },
     "output_type": "display_data"
    }
   ],
   "source": [
    "conf_mat = confusion_matrix(thread[\"thread_label_id\"], new_full,labels=label_map[\"type_id\"].values)\n",
    "fig, ax = plt.subplots(figsize=(13,13))\n",
    "sns.heatmap(conf_mat, annot=True, fmt='d', xticklabels=label_map.index, yticklabels=label_map.index)\n",
    "plt.ylabel('Actual')\n",
    "plt.xlabel('Predicted')\n",
    "plt.show()"
   ]
  },
  {
   "cell_type": "markdown",
   "metadata": {},
   "source": [
    "#### Some notes:\n",
    "\n",
    "- Spacy vectorization did improve performance on the haredest class: cybrid\n",
    "- Test accuracy: 64.4"
   ]
  },
  {
   "cell_type": "code",
   "execution_count": 33,
   "metadata": {},
   "outputs": [
    {
     "data": {
      "text/html": [
       "<div>\n",
       "<style scoped>\n",
       "    .dataframe tbody tr th:only-of-type {\n",
       "        vertical-align: middle;\n",
       "    }\n",
       "\n",
       "    .dataframe tbody tr th {\n",
       "        vertical-align: top;\n",
       "    }\n",
       "\n",
       "    .dataframe thead th {\n",
       "        text-align: right;\n",
       "    }\n",
       "</style>\n",
       "<table border=\"1\" class=\"dataframe\">\n",
       "  <thead>\n",
       "    <tr style=\"text-align: right;\">\n",
       "      <th></th>\n",
       "      <th>thread_label_id</th>\n",
       "    </tr>\n",
       "    <tr>\n",
       "      <th>thread_num</th>\n",
       "      <th></th>\n",
       "    </tr>\n",
       "  </thead>\n",
       "  <tbody>\n",
       "    <tr>\n",
       "      <th>126856</th>\n",
       "      <td>8</td>\n",
       "    </tr>\n",
       "    <tr>\n",
       "      <th>132415</th>\n",
       "      <td>8</td>\n",
       "    </tr>\n",
       "    <tr>\n",
       "      <th>134482</th>\n",
       "      <td>8</td>\n",
       "    </tr>\n",
       "    <tr>\n",
       "      <th>133728</th>\n",
       "      <td>1</td>\n",
       "    </tr>\n",
       "    <tr>\n",
       "      <th>134270</th>\n",
       "      <td>8</td>\n",
       "    </tr>\n",
       "  </tbody>\n",
       "</table>\n",
       "</div>"
      ],
      "text/plain": [
       "            thread_label_id\n",
       "thread_num                 \n",
       "126856                    8\n",
       "132415                    8\n",
       "134482                    8\n",
       "133728                    1\n",
       "134270                    8"
      ]
     },
     "execution_count": 33,
     "metadata": {},
     "output_type": "execute_result"
    }
   ],
   "source": [
    "lab=pd.Series(train_predict)\n",
    "ans = pd.concat([thread_test[\"thread_num\"],lab], axis=1, keys=['thread_num', 'thread_label_id'])\n",
    "ans=ans.set_index(\"thread_num\")\n",
    "ans.head()"
   ]
  },
  {
   "cell_type": "code",
   "execution_count": 36,
   "metadata": {},
   "outputs": [],
   "source": [
    "path=os.path.join(module_path,\"submissions\")\n",
    "ans.to_csv(os.path.join(path,\"sol34.csv\"))"
   ]
  }
 ],
 "metadata": {
  "kernelspec": {
   "display_name": "Python 3",
   "language": "python",
   "name": "python3"
  },
  "language_info": {
   "codemirror_mode": {
    "name": "ipython",
    "version": 3
   },
   "file_extension": ".py",
   "mimetype": "text/x-python",
   "name": "python",
   "nbconvert_exporter": "python",
   "pygments_lexer": "ipython3",
   "version": "3.7.1"
  }
 },
 "nbformat": 4,
 "nbformat_minor": 2
}
